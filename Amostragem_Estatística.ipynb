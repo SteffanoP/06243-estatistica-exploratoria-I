{
 "cells": [
  {
   "cell_type": "markdown",
   "source": [
    "Universidade Federal Rural de Pernambuco - Curso de Ciência da Computação\n",
    "\n",
    "Estatística Exploratória - Prof. Cláudio Cristino - 25/04/2022\n"
   ],
   "metadata": {}
  },
  {
   "cell_type": "markdown",
   "source": [
    "# Amostragem Estatística\n"
   ],
   "metadata": {}
  },
  {
   "cell_type": "markdown",
   "source": [
    "Uma Estatística é uma característica da amostra, pois se `X1, X2, X3, ... Xn` se trata de uma amostra, logo uma função (`f(X1, X2, X3, ..., Xn)`) é uma estatística determinada por tal amostra e que assume um valor determinado. Logo se queremos determinar valores desconhecidos de uma dada população, a estatística se torna uma opção viável, visto que, por muitas vezes analisar todo o conjunto populacional pode ser muito custoso, por exemplo, se queremos analisar todas as pessoas em situação de rua no Brasil. Veja que, esse exemplo não é nada prático, pois não há dados públicos acerca desse público e seria necessário procurar todas as pessoas nessa situação em todo o Brasil, algo inevitavelmente inviável e bastante custoso.\n",
    "\n",
    "Nesse momento, a Estatística visa \"estimar\" os valores de uma distribuição, ou características de uma população por meio de uma amostra, dessa forma, os valores estimados são altamente dependentes dos dados de nossa amostra. A amostragem consiste do processo para selecionar os elementos da população, que vão constituir a amostra [1]. Em si, nossa amostra, se trata de um grupo de interesse, que é um subconjunto da população e que também possui uma característica de interesse. Exemplo:\n",
    "\n",
    "- Característica: Peso dos estudantes da UFRPE;\n",
    "- Amostra: 100 estudantes selecionados **ao acaso**.\n",
    "\n",
    "Vale lembrar que não existe nenhuma técnica estatística capaz de salvar uma amostra mal coletada [2], pois ao aplicar as técnicas estatísticas estamos observando um subgrupo específico e tais elementos da amostra possuem características intrínsecas a população, logo erros grosseiros seriam cometidos e os resultados finais serão provavelmente bastante incorretos [2].\n",
    "\n",
    "Há dois tipos de amostras comuns de amostragem: A Amostragem probabilística e a Amostragem não-probabilística. A amostragem probabilística constitui da amostragem onde todos os elementos da população possuírem uma probabilidade conhecida, e diferente de zero, de pertencer à amostra; do contrário a amostra será não-probabilística [2].\n",
    "\n"
   ],
   "metadata": {}
  },
  {
   "cell_type": "markdown",
   "source": [
    "## Amostragem probabilística\n",
    "\n",
    "A amostragem probabilística pode ser dividida em diversas técnicas de amostragem, que são as técnicas de amostragem casual simples, sistemática, por meio de conglomerados, estratificada e múltipla. Vejamos:"
   ],
   "metadata": {}
  },
  {
   "cell_type": "markdown",
   "source": [
    "### Amostragem casual simples\n",
    "\n",
    "Se trata da amostragem em que todas as possíveis amostras de tamanho `n` tem a mesma chance de serem escolhidas (de uma população com `N` elementos). Por exemplo:\n",
    "\n",
    "- Selecionar 10 estudantes de uma sala por sorteio e perguntar seu peso;\n",
    "- Gerar uma amostra aleatória de 1000 estudantes da UFRPE e perguntar seu peso.\n",
    "\n",
    "Trata-se do método mais simples para selecionar uma amostra probabilística de uma população, que também serve de base para outros procedimentos amostrais, planejamento de experimentos e estudos observacionais.\n"
   ],
   "metadata": {}
  },
  {
   "cell_type": "markdown",
   "source": [
    "### Amostragem sistemática\n",
    "\n",
    "A amostragem sistemática consiste de obter elementos dispostos de maneira organizada e **aleatória** (ex. fila, lista), do qual, escolhe-se um ponto de partida e seleciona-se um elemento a cada `n` elementos da população em fila. O exemplo mais comum é numa linha de produção, selecionar-se-à um produto à cada 500 produtos produzidos, do qual os produtos selecionados seriam utilizados para teste.\n",
    "\n",
    "Sua principal vantagem é a facilidade em na determinação dos elementos da amostra, porém para adotá-la é necessário manter o fator de **aleatoriedade** na ordenação dos elementos, pois poderá ocorrer ciclos de variação em variáveis de interesse, do qual pode prejudicar a fidelidade da amostra com a população."
   ],
   "metadata": {}
  },
  {
   "cell_type": "markdown",
   "source": [
    "### Amostragem por conglomerados\n",
    "\n",
    "Se uma população pode ser constituída por conglomerados, por exemplo, bairros de uma cidade ou lotes de fabricação; poderemos selecionar conglomerados aleatoriamente para a nossa amostra, constituindo, dessa forma, a amostragem por conglomerados, onde todos os elementos do conglomerado selecionado fazem parte de nossa amostra."
   ],
   "metadata": {}
  },
  {
   "cell_type": "markdown",
   "source": [
    "### Amostragem Estratificada\n",
    "\n",
    "Uma amostragem estratificada, é uma amostra que é indicada por uma população estratificada, ou seja que está dividida em grupos distintos, denominados **estratos**. \n",
    "\n",
    "Observe que, por exemplo, você deseja observar a comunidade institucional da UFRPE, tal comunidade é constituída por estudantes, técnicos, professores e terceirizados, muitas vezes uma amostragem casual simples pode não representar devidos _extratos_ importantes para a comunidade institucional, pois a probabilidade de representar estudantes é muito maior do que os terceirizados, devido ao valor maior do número de estudantes; logo é notório observar que desejamos representar todos os extratos de forma homogênea, constituindo toda a comunidade universitária da UFRPE. Pretende-se assim otimizar a obtenção de informações sobre a população, com base no principio de que, onde a variação é menor, menos elementos são necessários para bem caracterizar o comportamento da variável [2]."
   ],
   "metadata": {}
  },
  {
   "cell_type": "markdown",
   "source": [
    "### Amostragem múltipla\n",
    "\n",
    "A amostragem múltipla é um tipo especial de amostragem, pois consiste a amostra é realizada em diversas etapas sucessivas. O objetivo é obter uma conclusão de se deve ou não aceitar uma dada hipótese, pois dependendo dos resultados observados, etapas suplementares podem ser dispensadas."
   ],
   "metadata": {}
  },
  {
   "cell_type": "markdown",
   "source": [
    "## Amostragem não-probabilística\n",
    "\n",
    "Na impossibilidade de ser obter amostra probabilísticas ou por vias de simplicidade, a amostragem não-probabilística pode ser uma alternativa quando queremos estudar uma população. Em muitos casos, o efeito da utilização de uma amostragem não-probabilística podem ser considerados equivalentes aos de uma amostragem probabilística [2], resultando na importância dos processos de amostragem não-probabilística. Vejamos:"
   ],
   "metadata": {}
  },
  {
   "cell_type": "markdown",
   "source": [
    "### Amostragem sem norma\n",
    "\n",
    "Se trata de uma amostragem, no qual o amostrador busca ser aleatório, porém não se utiliza de um instrumento ou método que garanta a aleatoriedade do processo de amostragem. Em geral, quando o amostrador escolhe uma população homogênea, os resultados são semelhantes aos da amostragem probabilística, porém qualquer tipo a influência do amostrador interfere no processo e poderá comprometer os resultados."
   ],
   "metadata": {}
  },
  {
   "cell_type": "markdown",
   "source": [
    "### Amostragem por Julgamento\n",
    "\n",
    "A amostra por julgamento, ou também conhecida como amostra intencional, é quando o amostrador escolhe deliberadamente os elementos da amostra; por julgar necessário para participar de uma amostra que represente uma população qualquer. Óbvio que esse tipo de amostragem é mais perigosa se comparada a outras amostras, pois pode equivocar um resultado já esperado ou previsível no processo de escolha de elementos da amostra, mas que por sua vez não representam a população como um todo."
   ],
   "metadata": {}
  },
  {
   "cell_type": "markdown",
   "source": [
    "## Observando amostras da flor `Iris`\n",
    "\n",
    "Uma das databases mais conhecidas na literatura de reconhecimento de padrões é a database `iris`. Apresentada em um trabalho clássico de [3] referenciado até o dia de hoje. O Data Set contém uma amostra de 150 instâncias do tipo de planta Íris. O Data Set é dividido em 3 grandes classe, porém para essa análise queremos observar a amostra de Íris."
   ],
   "metadata": {}
  },
  {
   "cell_type": "code",
   "execution_count": 1,
   "source": [
    "import pandas as pd\n",
    "import numpy as np\n",
    "from sklearn import datasets\n",
    "\n",
    "iris = datasets.load_iris()\n",
    "\n",
    "df = pd.DataFrame(data=np.c_[iris['data']], columns=iris['feature_names'])"
   ],
   "outputs": [],
   "metadata": {}
  },
  {
   "cell_type": "code",
   "execution_count": 2,
   "source": [
    "df.head()"
   ],
   "outputs": [
    {
     "output_type": "execute_result",
     "data": {
      "text/html": [
       "<div>\n",
       "<style scoped>\n",
       "    .dataframe tbody tr th:only-of-type {\n",
       "        vertical-align: middle;\n",
       "    }\n",
       "\n",
       "    .dataframe tbody tr th {\n",
       "        vertical-align: top;\n",
       "    }\n",
       "\n",
       "    .dataframe thead th {\n",
       "        text-align: right;\n",
       "    }\n",
       "</style>\n",
       "<table border=\"1\" class=\"dataframe\">\n",
       "  <thead>\n",
       "    <tr style=\"text-align: right;\">\n",
       "      <th></th>\n",
       "      <th>sepal length (cm)</th>\n",
       "      <th>sepal width (cm)</th>\n",
       "      <th>petal length (cm)</th>\n",
       "      <th>petal width (cm)</th>\n",
       "    </tr>\n",
       "  </thead>\n",
       "  <tbody>\n",
       "    <tr>\n",
       "      <th>0</th>\n",
       "      <td>5.1</td>\n",
       "      <td>3.5</td>\n",
       "      <td>1.4</td>\n",
       "      <td>0.2</td>\n",
       "    </tr>\n",
       "    <tr>\n",
       "      <th>1</th>\n",
       "      <td>4.9</td>\n",
       "      <td>3.0</td>\n",
       "      <td>1.4</td>\n",
       "      <td>0.2</td>\n",
       "    </tr>\n",
       "    <tr>\n",
       "      <th>2</th>\n",
       "      <td>4.7</td>\n",
       "      <td>3.2</td>\n",
       "      <td>1.3</td>\n",
       "      <td>0.2</td>\n",
       "    </tr>\n",
       "    <tr>\n",
       "      <th>3</th>\n",
       "      <td>4.6</td>\n",
       "      <td>3.1</td>\n",
       "      <td>1.5</td>\n",
       "      <td>0.2</td>\n",
       "    </tr>\n",
       "    <tr>\n",
       "      <th>4</th>\n",
       "      <td>5.0</td>\n",
       "      <td>3.6</td>\n",
       "      <td>1.4</td>\n",
       "      <td>0.2</td>\n",
       "    </tr>\n",
       "  </tbody>\n",
       "</table>\n",
       "</div>"
      ],
      "text/plain": [
       "   sepal length (cm)  sepal width (cm)  petal length (cm)  petal width (cm)\n",
       "0                5.1               3.5                1.4               0.2\n",
       "1                4.9               3.0                1.4               0.2\n",
       "2                4.7               3.2                1.3               0.2\n",
       "3                4.6               3.1                1.5               0.2\n",
       "4                5.0               3.6                1.4               0.2"
      ]
     },
     "metadata": {},
     "execution_count": 2
    }
   ],
   "metadata": {}
  },
  {
   "cell_type": "markdown",
   "source": [
    "`iris` é um Data Set que contém características de flores Íris em relação a dimensão das suas flores, logo duas características são cruciais ao identificar uma flor Iris, a sua sépala (_sepal_) e a pétala (_petal_)."
   ],
   "metadata": {}
  },
  {
   "cell_type": "markdown",
   "source": [
    "Vamos estudar montar diversas **amostras casual simples** e tirar conclusões acerca de nossas amostras."
   ],
   "metadata": {}
  },
  {
   "cell_type": "code",
   "execution_count": 3,
   "source": [
    "samples = []\n",
    "\n",
    "[samples.append(df.sample(n=50)) for _ in range(5)]\n"
   ],
   "outputs": [
    {
     "output_type": "execute_result",
     "data": {
      "text/plain": [
       "[None, None, None, None, None]"
      ]
     },
     "metadata": {},
     "execution_count": 3
    }
   ],
   "metadata": {}
  },
  {
   "cell_type": "markdown",
   "source": [
    "Agora, podemos analisar algumas informações interessante sobre nossas amostras!"
   ],
   "metadata": {}
  },
  {
   "cell_type": "code",
   "execution_count": 11,
   "source": [
    "[sample.describe() for sample in samples]"
   ],
   "outputs": [
    {
     "output_type": "execute_result",
     "data": {
      "text/html": [
       "<div>\n",
       "<style scoped>\n",
       "    .dataframe tbody tr th:only-of-type {\n",
       "        vertical-align: middle;\n",
       "    }\n",
       "\n",
       "    .dataframe tbody tr th {\n",
       "        vertical-align: top;\n",
       "    }\n",
       "\n",
       "    .dataframe thead th {\n",
       "        text-align: right;\n",
       "    }\n",
       "</style>\n",
       "<table border=\"1\" class=\"dataframe\">\n",
       "  <thead>\n",
       "    <tr style=\"text-align: right;\">\n",
       "      <th></th>\n",
       "      <th>sepal length (cm)</th>\n",
       "      <th>sepal width (cm)</th>\n",
       "      <th>petal length (cm)</th>\n",
       "      <th>petal width (cm)</th>\n",
       "    </tr>\n",
       "  </thead>\n",
       "  <tbody>\n",
       "    <tr>\n",
       "      <th>count</th>\n",
       "      <td>50.000000</td>\n",
       "      <td>50.000000</td>\n",
       "      <td>50.000000</td>\n",
       "      <td>50.00000</td>\n",
       "    </tr>\n",
       "    <tr>\n",
       "      <th>mean</th>\n",
       "      <td>5.758000</td>\n",
       "      <td>3.020000</td>\n",
       "      <td>3.694000</td>\n",
       "      <td>1.15600</td>\n",
       "    </tr>\n",
       "    <tr>\n",
       "      <th>std</th>\n",
       "      <td>0.707998</td>\n",
       "      <td>0.501427</td>\n",
       "      <td>1.611744</td>\n",
       "      <td>0.67798</td>\n",
       "    </tr>\n",
       "    <tr>\n",
       "      <th>min</th>\n",
       "      <td>4.400000</td>\n",
       "      <td>2.000000</td>\n",
       "      <td>1.000000</td>\n",
       "      <td>0.10000</td>\n",
       "    </tr>\n",
       "    <tr>\n",
       "      <th>25%</th>\n",
       "      <td>5.100000</td>\n",
       "      <td>2.700000</td>\n",
       "      <td>1.600000</td>\n",
       "      <td>0.40000</td>\n",
       "    </tr>\n",
       "    <tr>\n",
       "      <th>50%</th>\n",
       "      <td>5.700000</td>\n",
       "      <td>3.000000</td>\n",
       "      <td>4.250000</td>\n",
       "      <td>1.30000</td>\n",
       "    </tr>\n",
       "    <tr>\n",
       "      <th>75%</th>\n",
       "      <td>6.300000</td>\n",
       "      <td>3.375000</td>\n",
       "      <td>4.900000</td>\n",
       "      <td>1.57500</td>\n",
       "    </tr>\n",
       "    <tr>\n",
       "      <th>max</th>\n",
       "      <td>7.400000</td>\n",
       "      <td>4.400000</td>\n",
       "      <td>6.100000</td>\n",
       "      <td>2.50000</td>\n",
       "    </tr>\n",
       "  </tbody>\n",
       "</table>\n",
       "</div>"
      ],
      "text/plain": [
       "       sepal length (cm)  sepal width (cm)  petal length (cm)  \\\n",
       "count          50.000000         50.000000          50.000000   \n",
       "mean            5.758000          3.020000           3.694000   \n",
       "std             0.707998          0.501427           1.611744   \n",
       "min             4.400000          2.000000           1.000000   \n",
       "25%             5.100000          2.700000           1.600000   \n",
       "50%             5.700000          3.000000           4.250000   \n",
       "75%             6.300000          3.375000           4.900000   \n",
       "max             7.400000          4.400000           6.100000   \n",
       "\n",
       "       petal width (cm)  \n",
       "count          50.00000  \n",
       "mean            1.15600  \n",
       "std             0.67798  \n",
       "min             0.10000  \n",
       "25%             0.40000  \n",
       "50%             1.30000  \n",
       "75%             1.57500  \n",
       "max             2.50000  "
      ]
     },
     "metadata": {},
     "execution_count": 11
    }
   ],
   "metadata": {}
  },
  {
   "cell_type": "markdown",
   "source": [
    "## Referências\n",
    "\n",
    "[1] Martins, E.G.M., (2015) Amostragem (Estatística), Rev. Ciência Elem., V3(1):076, DOI: http://doi.org/10.24927/rce2015.076\n",
    "\n",
    "[2] NETO, Pedro L. C. Estatística. Ed. Blucher Ltda, 1977.\n",
    "\n",
    "[3] Fisher, Ronald A. \"The use of multiple measurements in taxonomic problems.\" Annals of eugenics 7.2 (1936): 179-188."
   ],
   "metadata": {}
  }
 ],
 "metadata": {
  "interpreter": {
   "hash": "916dbcbb3f70747c44a77c7bcd40155683ae19c65e1c03b4aa3499c5328201f1"
  },
  "kernelspec": {
   "name": "python3",
   "display_name": "Python 3.9.7 64-bit"
  },
  "language_info": {
   "codemirror_mode": {
    "name": "ipython",
    "version": 3
   },
   "file_extension": ".py",
   "mimetype": "text/x-python",
   "name": "python",
   "nbconvert_exporter": "python",
   "pygments_lexer": "ipython3",
   "version": "3.9.7"
  },
  "orig_nbformat": 4
 },
 "nbformat": 4,
 "nbformat_minor": 2
}