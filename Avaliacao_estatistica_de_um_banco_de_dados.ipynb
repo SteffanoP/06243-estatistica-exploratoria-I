{
 "cells": [
  {
   "cell_type": "markdown",
   "metadata": {},
   "source": [
    "# Avaliação Estatística de um banco de dados\n",
    "\n",
    "Universidade Federal Rural de Pernambuco\n",
    "\n",
    "Bacharelado em Ciência da Computação\n",
    "\n",
    "Estatística Exploratória - Prof. Cláudio Cristino\n",
    "\n",
    "Segunda Verificação de Aprendizagem - em 26/05/2022\n",
    "\n",
    "Steffano Xavier Pereira"
   ]
  },
  {
   "cell_type": "markdown",
   "metadata": {},
   "source": [
    "## Base de dados\n",
    "\n",
    "Inicialmente vamos carregar o nosso banco de dados, para que possamos trabalhar em nosso ambiente virtual Python e fazer análises de acordo com o que foi proposto para a atividade."
   ]
  },
  {
   "cell_type": "code",
   "execution_count": 37,
   "metadata": {},
   "outputs": [],
   "source": [
    "import pandas as pd\n",
    "\n",
    "# Importando os dados\n",
    "dados = pd.read_csv('./data/Steffano Pereira - Dados_individuais_2VA_Est_Exploratoria - Steffano.csv', index_col='ID')"
   ]
  },
  {
   "cell_type": "markdown",
   "metadata": {},
   "source": [
    "Podemos também visualizar um corte dos 5 primeiros dados, para confirmar que os dados estão organizados da maneira que desejamos:"
   ]
  },
  {
   "cell_type": "code",
   "execution_count": 38,
   "metadata": {},
   "outputs": [
    {
     "data": {
      "text/html": [
       "<div>\n",
       "<style scoped>\n",
       "    .dataframe tbody tr th:only-of-type {\n",
       "        vertical-align: middle;\n",
       "    }\n",
       "\n",
       "    .dataframe tbody tr th {\n",
       "        vertical-align: top;\n",
       "    }\n",
       "\n",
       "    .dataframe thead th {\n",
       "        text-align: right;\n",
       "    }\n",
       "</style>\n",
       "<table border=\"1\" class=\"dataframe\">\n",
       "  <thead>\n",
       "    <tr style=\"text-align: right;\">\n",
       "      <th></th>\n",
       "      <th>Tipo</th>\n",
       "      <th>Categoria</th>\n",
       "      <th>Download (número)</th>\n",
       "      <th>Avaliação (0 - 5)</th>\n",
       "      <th>Tamanho (Mb)</th>\n",
       "      <th>Tempo no ar (em dias)</th>\n",
       "    </tr>\n",
       "    <tr>\n",
       "      <th>ID</th>\n",
       "      <th></th>\n",
       "      <th></th>\n",
       "      <th></th>\n",
       "      <th></th>\n",
       "      <th></th>\n",
       "      <th></th>\n",
       "    </tr>\n",
       "  </thead>\n",
       "  <tbody>\n",
       "    <tr>\n",
       "      <th>App1</th>\n",
       "      <td>Pago</td>\n",
       "      <td>Entreterimento</td>\n",
       "      <td>94506</td>\n",
       "      <td>4</td>\n",
       "      <td>63</td>\n",
       "      <td>349</td>\n",
       "    </tr>\n",
       "    <tr>\n",
       "      <th>App2</th>\n",
       "      <td>Gratuito</td>\n",
       "      <td>Utilitário</td>\n",
       "      <td>281962</td>\n",
       "      <td>4</td>\n",
       "      <td>120</td>\n",
       "      <td>365</td>\n",
       "    </tr>\n",
       "    <tr>\n",
       "      <th>App3</th>\n",
       "      <td>Pago</td>\n",
       "      <td>Entreterimento</td>\n",
       "      <td>119282</td>\n",
       "      <td>3</td>\n",
       "      <td>70</td>\n",
       "      <td>335</td>\n",
       "    </tr>\n",
       "    <tr>\n",
       "      <th>App4</th>\n",
       "      <td>Gratuito</td>\n",
       "      <td>Entreterimento</td>\n",
       "      <td>136822</td>\n",
       "      <td>3</td>\n",
       "      <td>74</td>\n",
       "      <td>331</td>\n",
       "    </tr>\n",
       "    <tr>\n",
       "      <th>App5</th>\n",
       "      <td>Gratuito</td>\n",
       "      <td>Rede Social</td>\n",
       "      <td>286821</td>\n",
       "      <td>1</td>\n",
       "      <td>123</td>\n",
       "      <td>282</td>\n",
       "    </tr>\n",
       "  </tbody>\n",
       "</table>\n",
       "</div>"
      ],
      "text/plain": [
       "          Tipo       Categoria  Download (número)  Avaliação (0 - 5)  \\\n",
       "ID                                                                     \n",
       "App1      Pago  Entreterimento              94506                  4   \n",
       "App2  Gratuito      Utilitário             281962                  4   \n",
       "App3      Pago  Entreterimento             119282                  3   \n",
       "App4  Gratuito  Entreterimento             136822                  3   \n",
       "App5  Gratuito     Rede Social             286821                  1   \n",
       "\n",
       "      Tamanho (Mb)  Tempo no ar (em dias)  \n",
       "ID                                         \n",
       "App1            63                    349  \n",
       "App2           120                    365  \n",
       "App3            70                    335  \n",
       "App4            74                    331  \n",
       "App5           123                    282  "
      ]
     },
     "execution_count": 38,
     "metadata": {},
     "output_type": "execute_result"
    }
   ],
   "source": [
    "dados.head()"
   ]
  },
  {
   "cell_type": "markdown",
   "metadata": {},
   "source": [
    "Como obtemos os valores em nossa variável `dados`, podemos continuar para as nossas atividades."
   ]
  },
  {
   "cell_type": "markdown",
   "metadata": {},
   "source": [
    "## Amostras\n",
    "\n",
    "Para essa atividade também é necessário construir amostras que irão servir como referência para o estudo de nossa população. Para tal, o conjunto das amostras serão demonstrados nessa seção.\n",
    "\n",
    "Vale observar que as amostras são do tipo de amostra aleatória simples."
   ]
  },
  {
   "cell_type": "markdown",
   "metadata": {},
   "source": [
    "### Amostras para o item 2 e 3\n",
    "\n",
    "Vamos selecionar algumas amostras sob o tamanho dos aplicativos encima de nossa população."
   ]
  },
  {
   "cell_type": "code",
   "execution_count": 39,
   "metadata": {},
   "outputs": [],
   "source": [
    "amostra_tam10 = dados['Tamanho (Mb)'].sample(n=10).to_frame()\n",
    "amostra_tam50 = dados['Tamanho (Mb)'].sample(n=50).to_frame()\n",
    "amostra_tam100 = dados['Tamanho (Mb)'].sample(n=100).to_frame()\n",
    "\n",
    "amostra_tam = [amostra_tam10, amostra_tam50, amostra_tam100]"
   ]
  },
  {
   "cell_type": "markdown",
   "metadata": {},
   "source": [
    "### Amostra para o item 4"
   ]
  },
  {
   "cell_type": "markdown",
   "metadata": {},
   "source": [
    "#### Amostra aleatória de tamanho 20"
   ]
  },
  {
   "cell_type": "code",
   "execution_count": 63,
   "metadata": {},
   "outputs": [],
   "source": [
    "amostra_ale20 = dados.sample(n=20)"
   ]
  },
  {
   "cell_type": "markdown",
   "metadata": {},
   "source": [
    "#### Amostras sobre a categoria científica\n",
    "\n",
    "Vamos selecionar uma amostra de dados aleatória da categoria científica, para formular testes de hipóteses no item 4."
   ]
  },
  {
   "cell_type": "code",
   "execution_count": 62,
   "metadata": {},
   "outputs": [
    {
     "data": {
      "text/html": [
       "<div>\n",
       "<style scoped>\n",
       "    .dataframe tbody tr th:only-of-type {\n",
       "        vertical-align: middle;\n",
       "    }\n",
       "\n",
       "    .dataframe tbody tr th {\n",
       "        vertical-align: top;\n",
       "    }\n",
       "\n",
       "    .dataframe thead th {\n",
       "        text-align: right;\n",
       "    }\n",
       "</style>\n",
       "<table border=\"1\" class=\"dataframe\">\n",
       "  <thead>\n",
       "    <tr style=\"text-align: right;\">\n",
       "      <th></th>\n",
       "      <th>Download (número)</th>\n",
       "      <th>Avaliação (0 - 5)</th>\n",
       "      <th>Tamanho (Mb)</th>\n",
       "      <th>Tempo no ar (em dias)</th>\n",
       "    </tr>\n",
       "  </thead>\n",
       "  <tbody>\n",
       "    <tr>\n",
       "      <th>count</th>\n",
       "      <td>20.000000</td>\n",
       "      <td>20.000000</td>\n",
       "      <td>20.00000</td>\n",
       "      <td>20.00000</td>\n",
       "    </tr>\n",
       "    <tr>\n",
       "      <th>mean</th>\n",
       "      <td>136900.300000</td>\n",
       "      <td>4.900000</td>\n",
       "      <td>75.75000</td>\n",
       "      <td>403.25000</td>\n",
       "    </tr>\n",
       "    <tr>\n",
       "      <th>std</th>\n",
       "      <td>87389.126905</td>\n",
       "      <td>0.307794</td>\n",
       "      <td>30.79965</td>\n",
       "      <td>11.38732</td>\n",
       "    </tr>\n",
       "    <tr>\n",
       "      <th>min</th>\n",
       "      <td>46147.000000</td>\n",
       "      <td>4.000000</td>\n",
       "      <td>45.00000</td>\n",
       "      <td>383.00000</td>\n",
       "    </tr>\n",
       "    <tr>\n",
       "      <th>25%</th>\n",
       "      <td>63104.000000</td>\n",
       "      <td>5.000000</td>\n",
       "      <td>52.00000</td>\n",
       "      <td>391.00000</td>\n",
       "    </tr>\n",
       "    <tr>\n",
       "      <th>50%</th>\n",
       "      <td>114918.500000</td>\n",
       "      <td>5.000000</td>\n",
       "      <td>68.50000</td>\n",
       "      <td>409.00000</td>\n",
       "    </tr>\n",
       "    <tr>\n",
       "      <th>75%</th>\n",
       "      <td>195326.000000</td>\n",
       "      <td>5.000000</td>\n",
       "      <td>89.00000</td>\n",
       "      <td>413.00000</td>\n",
       "    </tr>\n",
       "    <tr>\n",
       "      <th>max</th>\n",
       "      <td>305825.000000</td>\n",
       "      <td>5.000000</td>\n",
       "      <td>146.00000</td>\n",
       "      <td>416.00000</td>\n",
       "    </tr>\n",
       "  </tbody>\n",
       "</table>\n",
       "</div>"
      ],
      "text/plain": [
       "       Download (número)  Avaliação (0 - 5)  Tamanho (Mb)  \\\n",
       "count          20.000000          20.000000      20.00000   \n",
       "mean       136900.300000           4.900000      75.75000   \n",
       "std         87389.126905           0.307794      30.79965   \n",
       "min         46147.000000           4.000000      45.00000   \n",
       "25%         63104.000000           5.000000      52.00000   \n",
       "50%        114918.500000           5.000000      68.50000   \n",
       "75%        195326.000000           5.000000      89.00000   \n",
       "max        305825.000000           5.000000     146.00000   \n",
       "\n",
       "       Tempo no ar (em dias)  \n",
       "count               20.00000  \n",
       "mean               403.25000  \n",
       "std                 11.38732  \n",
       "min                383.00000  \n",
       "25%                391.00000  \n",
       "50%                409.00000  \n",
       "75%                413.00000  \n",
       "max                416.00000  "
      ]
     },
     "execution_count": 62,
     "metadata": {},
     "output_type": "execute_result"
    }
   ],
   "source": [
    "amostra_cie20 = dados[dados.Categoria == 'Científico']\n",
    "amostra_cie20 = amostra_cie20.sample(n=20, replace=True)"
   ]
  },
  {
   "cell_type": "markdown",
   "metadata": {},
   "source": [
    "## 1. Análise Descritiva\n",
    "\n",
    "Devemos fazer uma análise descritiva de todas as variáveis, para isso, vamos estabelecer os seguintes critérios:\n",
    "\n",
    "- Devemos analisar as variáveis qualitativas separadamente\n",
    "- É interessante observar análises de aplicativos de categorias diferentes"
   ]
  },
  {
   "cell_type": "markdown",
   "metadata": {},
   "source": [
    "### 1.1 Análise Geral\n",
    "\n",
    "Inicialmente, podemos analisar dados descritivos de **toda nossa amostra** com a função `describe()`.\n",
    "\n",
    "Considere nesse quesito que:\n",
    "\n",
    "- count - Número de exemplos\n",
    "- mean - Média\n",
    "- std - Desvio Padrão\n",
    "- min - Valor mínimo\n",
    "- 25% - Primeiro quartil\n",
    "- 50% - Segundo Quartil/Mediana\n",
    "- 75% - Terceiro Quartil \n",
    "- max - Valor Máximo"
   ]
  },
  {
   "cell_type": "code",
   "execution_count": 40,
   "metadata": {},
   "outputs": [
    {
     "data": {
      "text/html": [
       "<div>\n",
       "<style scoped>\n",
       "    .dataframe tbody tr th:only-of-type {\n",
       "        vertical-align: middle;\n",
       "    }\n",
       "\n",
       "    .dataframe tbody tr th {\n",
       "        vertical-align: top;\n",
       "    }\n",
       "\n",
       "    .dataframe thead th {\n",
       "        text-align: right;\n",
       "    }\n",
       "</style>\n",
       "<table border=\"1\" class=\"dataframe\">\n",
       "  <thead>\n",
       "    <tr style=\"text-align: right;\">\n",
       "      <th></th>\n",
       "      <th>Download (número)</th>\n",
       "      <th>Avaliação (0 - 5)</th>\n",
       "      <th>Tamanho (Mb)</th>\n",
       "      <th>Tempo no ar (em dias)</th>\n",
       "    </tr>\n",
       "  </thead>\n",
       "  <tbody>\n",
       "    <tr>\n",
       "      <th>count</th>\n",
       "      <td>316.000000</td>\n",
       "      <td>316.000000</td>\n",
       "      <td>316.000000</td>\n",
       "      <td>316.000000</td>\n",
       "    </tr>\n",
       "    <tr>\n",
       "      <th>mean</th>\n",
       "      <td>167952.481013</td>\n",
       "      <td>3.598101</td>\n",
       "      <td>82.810127</td>\n",
       "      <td>353.224684</td>\n",
       "    </tr>\n",
       "    <tr>\n",
       "      <th>std</th>\n",
       "      <td>87128.578413</td>\n",
       "      <td>1.017246</td>\n",
       "      <td>30.090267</td>\n",
       "      <td>36.187916</td>\n",
       "    </tr>\n",
       "    <tr>\n",
       "      <th>min</th>\n",
       "      <td>12954.000000</td>\n",
       "      <td>1.000000</td>\n",
       "      <td>10.000000</td>\n",
       "      <td>258.000000</td>\n",
       "    </tr>\n",
       "    <tr>\n",
       "      <th>25%</th>\n",
       "      <td>94472.250000</td>\n",
       "      <td>3.000000</td>\n",
       "      <td>63.000000</td>\n",
       "      <td>329.000000</td>\n",
       "    </tr>\n",
       "    <tr>\n",
       "      <th>50%</th>\n",
       "      <td>175262.000000</td>\n",
       "      <td>4.000000</td>\n",
       "      <td>84.000000</td>\n",
       "      <td>354.000000</td>\n",
       "    </tr>\n",
       "    <tr>\n",
       "      <th>75%</th>\n",
       "      <td>242500.750000</td>\n",
       "      <td>4.000000</td>\n",
       "      <td>103.000000</td>\n",
       "      <td>376.250000</td>\n",
       "    </tr>\n",
       "    <tr>\n",
       "      <th>max</th>\n",
       "      <td>309906.000000</td>\n",
       "      <td>5.000000</td>\n",
       "      <td>183.000000</td>\n",
       "      <td>467.000000</td>\n",
       "    </tr>\n",
       "  </tbody>\n",
       "</table>\n",
       "</div>"
      ],
      "text/plain": [
       "       Download (número)  Avaliação (0 - 5)  Tamanho (Mb)  \\\n",
       "count         316.000000         316.000000    316.000000   \n",
       "mean       167952.481013           3.598101     82.810127   \n",
       "std         87128.578413           1.017246     30.090267   \n",
       "min         12954.000000           1.000000     10.000000   \n",
       "25%         94472.250000           3.000000     63.000000   \n",
       "50%        175262.000000           4.000000     84.000000   \n",
       "75%        242500.750000           4.000000    103.000000   \n",
       "max        309906.000000           5.000000    183.000000   \n",
       "\n",
       "       Tempo no ar (em dias)  \n",
       "count             316.000000  \n",
       "mean              353.224684  \n",
       "std                36.187916  \n",
       "min               258.000000  \n",
       "25%               329.000000  \n",
       "50%               354.000000  \n",
       "75%               376.250000  \n",
       "max               467.000000  "
      ]
     },
     "execution_count": 40,
     "metadata": {},
     "output_type": "execute_result"
    }
   ],
   "source": [
    "dados.describe()"
   ]
  },
  {
   "cell_type": "markdown",
   "metadata": {},
   "source": [
    "Para os atributos quantitativos, podemos tirar algumas conclusões:\n",
    "\n",
    "- Download\n",
    "\n",
    "    Podemos observar o número de Downloads como um intervalo entre `12.954` à `309.906`, do qual podemos concluir que nossa amostra possui aplicativos na ordem das dezena de milhares até 3 centena de milhares, do qual pode se considerar que temos aplicativos com um nível de fama alto, logo quanto maior o número de downloads, maior é o público-alvo atingido por esse aplicativo.\n",
    "    \n",
    "- Avaliação\n",
    "\n",
    "    Na avaliação, podemos observar um fato interessante, que é a média e seu desvio padrão; em geral, a avaliação parece balanceada, pois provavelmente, devemos ter aplicativos com boas avaliações e também aplicativos más avaliações, com o primeiro quartil (25%) até avaliação `3` e do segundo (50%) e terceiro quartil (75%) avaliações maiores que `4`, daqui já podemos concluir que há um grupo marginal/pequeno de avaliações `1` e `2`; e um grupo considerável de avaliações entre `4` e `5`. Vale observar que nessa amostra não há avaliações com valor `0`.\n",
    "\n",
    "- Tamanho\n",
    "\n",
    "    No tamanho, é interessante observar que temos um intervalo bem definido entre `10` mb até `183` mb. No geral, os aplicativos da amostra possuem uma média de `82,81` mb e desvio padrão de `30,09` mb. De modo geral, estão bem distribuídos de acordo com seus quartis, principalmente que há uma minoria menor que `63` mb. O tamanho será importante de observar, quando estudarmos as categorias em específico.\n",
    "    \n",
    "- Tempo no ar\n",
    "\n",
    "    Já para o tempo no ar, um ponto muito importante de se observar, é que o mínimo de dias equivale há `258` dias, o que corresponde a um período maduro de dias maior que 6 meses de lançamento, o que torna a amostra madura o suficiente para o estudo."
   ]
  },
  {
   "cell_type": "markdown",
   "metadata": {},
   "source": [
    "Podemos separar nossa amostra por tipo e categoria e assim analisar cada uma individualmente."
   ]
  },
  {
   "cell_type": "markdown",
   "metadata": {},
   "source": [
    "### 1.2 Análise Descritiva por Tipo\n",
    "\n",
    "Para analisar os aplicativos pagos de aplicativos gratuitos é necessário separar os dados de acordo, e em seguida observar suas relações descritivas."
   ]
  },
  {
   "cell_type": "code",
   "execution_count": 41,
   "metadata": {},
   "outputs": [],
   "source": [
    "apps_pagos = dados[dados.Tipo == 'Pago']\n",
    "apps_gratuitos = dados[dados.Tipo == 'Gratuito']"
   ]
  },
  {
   "cell_type": "markdown",
   "metadata": {},
   "source": [
    "#### Aplicativos Pagos"
   ]
  },
  {
   "cell_type": "code",
   "execution_count": 42,
   "metadata": {},
   "outputs": [
    {
     "data": {
      "text/html": [
       "<div>\n",
       "<style scoped>\n",
       "    .dataframe tbody tr th:only-of-type {\n",
       "        vertical-align: middle;\n",
       "    }\n",
       "\n",
       "    .dataframe tbody tr th {\n",
       "        vertical-align: top;\n",
       "    }\n",
       "\n",
       "    .dataframe thead th {\n",
       "        text-align: right;\n",
       "    }\n",
       "</style>\n",
       "<table border=\"1\" class=\"dataframe\">\n",
       "  <thead>\n",
       "    <tr style=\"text-align: right;\">\n",
       "      <th></th>\n",
       "      <th>Download (número)</th>\n",
       "      <th>Avaliação (0 - 5)</th>\n",
       "      <th>Tamanho (Mb)</th>\n",
       "      <th>Tempo no ar (em dias)</th>\n",
       "    </tr>\n",
       "  </thead>\n",
       "  <tbody>\n",
       "    <tr>\n",
       "      <th>count</th>\n",
       "      <td>116.000000</td>\n",
       "      <td>116.000000</td>\n",
       "      <td>116.000000</td>\n",
       "      <td>116.000000</td>\n",
       "    </tr>\n",
       "    <tr>\n",
       "      <th>mean</th>\n",
       "      <td>70553.181034</td>\n",
       "      <td>3.491379</td>\n",
       "      <td>51.637931</td>\n",
       "      <td>349.077586</td>\n",
       "    </tr>\n",
       "    <tr>\n",
       "      <th>std</th>\n",
       "      <td>34263.839918</td>\n",
       "      <td>0.991228</td>\n",
       "      <td>15.717283</td>\n",
       "      <td>35.145450</td>\n",
       "    </tr>\n",
       "    <tr>\n",
       "      <th>min</th>\n",
       "      <td>12954.000000</td>\n",
       "      <td>1.000000</td>\n",
       "      <td>10.000000</td>\n",
       "      <td>258.000000</td>\n",
       "    </tr>\n",
       "    <tr>\n",
       "      <th>25%</th>\n",
       "      <td>40461.750000</td>\n",
       "      <td>3.000000</td>\n",
       "      <td>41.750000</td>\n",
       "      <td>326.500000</td>\n",
       "    </tr>\n",
       "    <tr>\n",
       "      <th>50%</th>\n",
       "      <td>75427.000000</td>\n",
       "      <td>4.000000</td>\n",
       "      <td>56.500000</td>\n",
       "      <td>350.500000</td>\n",
       "    </tr>\n",
       "    <tr>\n",
       "      <th>75%</th>\n",
       "      <td>98713.000000</td>\n",
       "      <td>4.000000</td>\n",
       "      <td>64.000000</td>\n",
       "      <td>368.250000</td>\n",
       "    </tr>\n",
       "    <tr>\n",
       "      <th>max</th>\n",
       "      <td>128532.000000</td>\n",
       "      <td>5.000000</td>\n",
       "      <td>72.000000</td>\n",
       "      <td>446.000000</td>\n",
       "    </tr>\n",
       "  </tbody>\n",
       "</table>\n",
       "</div>"
      ],
      "text/plain": [
       "       Download (número)  Avaliação (0 - 5)  Tamanho (Mb)  \\\n",
       "count         116.000000         116.000000    116.000000   \n",
       "mean        70553.181034           3.491379     51.637931   \n",
       "std         34263.839918           0.991228     15.717283   \n",
       "min         12954.000000           1.000000     10.000000   \n",
       "25%         40461.750000           3.000000     41.750000   \n",
       "50%         75427.000000           4.000000     56.500000   \n",
       "75%         98713.000000           4.000000     64.000000   \n",
       "max        128532.000000           5.000000     72.000000   \n",
       "\n",
       "       Tempo no ar (em dias)  \n",
       "count             116.000000  \n",
       "mean              349.077586  \n",
       "std                35.145450  \n",
       "min               258.000000  \n",
       "25%               326.500000  \n",
       "50%               350.500000  \n",
       "75%               368.250000  \n",
       "max               446.000000  "
      ]
     },
     "execution_count": 42,
     "metadata": {},
     "output_type": "execute_result"
    }
   ],
   "source": [
    "apps_pagos.describe()"
   ]
  },
  {
   "cell_type": "markdown",
   "metadata": {},
   "source": [
    "#### Aplicativos Gratuitos"
   ]
  },
  {
   "cell_type": "code",
   "execution_count": 43,
   "metadata": {},
   "outputs": [
    {
     "data": {
      "text/html": [
       "<div>\n",
       "<style scoped>\n",
       "    .dataframe tbody tr th:only-of-type {\n",
       "        vertical-align: middle;\n",
       "    }\n",
       "\n",
       "    .dataframe tbody tr th {\n",
       "        vertical-align: top;\n",
       "    }\n",
       "\n",
       "    .dataframe thead th {\n",
       "        text-align: right;\n",
       "    }\n",
       "</style>\n",
       "<table border=\"1\" class=\"dataframe\">\n",
       "  <thead>\n",
       "    <tr style=\"text-align: right;\">\n",
       "      <th></th>\n",
       "      <th>Download (número)</th>\n",
       "      <th>Avaliação (0 - 5)</th>\n",
       "      <th>Tamanho (Mb)</th>\n",
       "      <th>Tempo no ar (em dias)</th>\n",
       "    </tr>\n",
       "  </thead>\n",
       "  <tbody>\n",
       "    <tr>\n",
       "      <th>count</th>\n",
       "      <td>200.000000</td>\n",
       "      <td>200.000000</td>\n",
       "      <td>200.000000</td>\n",
       "      <td>200.000000</td>\n",
       "    </tr>\n",
       "    <tr>\n",
       "      <th>mean</th>\n",
       "      <td>224444.075000</td>\n",
       "      <td>3.660000</td>\n",
       "      <td>100.890000</td>\n",
       "      <td>355.630000</td>\n",
       "    </tr>\n",
       "    <tr>\n",
       "      <th>std</th>\n",
       "      <td>50998.471599</td>\n",
       "      <td>1.029417</td>\n",
       "      <td>19.887318</td>\n",
       "      <td>36.650778</td>\n",
       "    </tr>\n",
       "    <tr>\n",
       "      <th>min</th>\n",
       "      <td>130861.000000</td>\n",
       "      <td>1.000000</td>\n",
       "      <td>73.000000</td>\n",
       "      <td>265.000000</td>\n",
       "    </tr>\n",
       "    <tr>\n",
       "      <th>25%</th>\n",
       "      <td>180537.250000</td>\n",
       "      <td>3.000000</td>\n",
       "      <td>85.000000</td>\n",
       "      <td>330.000000</td>\n",
       "    </tr>\n",
       "    <tr>\n",
       "      <th>50%</th>\n",
       "      <td>224285.500000</td>\n",
       "      <td>4.000000</td>\n",
       "      <td>97.000000</td>\n",
       "      <td>356.000000</td>\n",
       "    </tr>\n",
       "    <tr>\n",
       "      <th>75%</th>\n",
       "      <td>269094.250000</td>\n",
       "      <td>4.000000</td>\n",
       "      <td>113.000000</td>\n",
       "      <td>383.250000</td>\n",
       "    </tr>\n",
       "    <tr>\n",
       "      <th>max</th>\n",
       "      <td>309906.000000</td>\n",
       "      <td>5.000000</td>\n",
       "      <td>183.000000</td>\n",
       "      <td>467.000000</td>\n",
       "    </tr>\n",
       "  </tbody>\n",
       "</table>\n",
       "</div>"
      ],
      "text/plain": [
       "       Download (número)  Avaliação (0 - 5)  Tamanho (Mb)  \\\n",
       "count         200.000000         200.000000    200.000000   \n",
       "mean       224444.075000           3.660000    100.890000   \n",
       "std         50998.471599           1.029417     19.887318   \n",
       "min        130861.000000           1.000000     73.000000   \n",
       "25%        180537.250000           3.000000     85.000000   \n",
       "50%        224285.500000           4.000000     97.000000   \n",
       "75%        269094.250000           4.000000    113.000000   \n",
       "max        309906.000000           5.000000    183.000000   \n",
       "\n",
       "       Tempo no ar (em dias)  \n",
       "count             200.000000  \n",
       "mean              355.630000  \n",
       "std                36.650778  \n",
       "min               265.000000  \n",
       "25%               330.000000  \n",
       "50%               356.000000  \n",
       "75%               383.250000  \n",
       "max               467.000000  "
      ]
     },
     "execution_count": 43,
     "metadata": {},
     "output_type": "execute_result"
    }
   ],
   "source": [
    "apps_gratuitos.describe()"
   ]
  },
  {
   "cell_type": "markdown",
   "metadata": {},
   "source": [
    "### 1.2 Análise Descritiva por Categoria"
   ]
  },
  {
   "cell_type": "code",
   "execution_count": 44,
   "metadata": {},
   "outputs": [],
   "source": [
    "apps_utilitario = dados[dados.Categoria == 'Utilitário']\n",
    "apps_entretenimento = dados[dados.Categoria == 'Entreterimento']\n",
    "apps_redesSocial = dados[dados.Categoria == 'Rede Social']\n",
    "apps_cientifico = dados[dados.Categoria == 'Científico']\n"
   ]
  },
  {
   "cell_type": "code",
   "execution_count": 45,
   "metadata": {},
   "outputs": [
    {
     "data": {
      "text/html": [
       "<div>\n",
       "<style scoped>\n",
       "    .dataframe tbody tr th:only-of-type {\n",
       "        vertical-align: middle;\n",
       "    }\n",
       "\n",
       "    .dataframe tbody tr th {\n",
       "        vertical-align: top;\n",
       "    }\n",
       "\n",
       "    .dataframe thead th {\n",
       "        text-align: right;\n",
       "    }\n",
       "</style>\n",
       "<table border=\"1\" class=\"dataframe\">\n",
       "  <thead>\n",
       "    <tr style=\"text-align: right;\">\n",
       "      <th></th>\n",
       "      <th>Download (número)</th>\n",
       "      <th>Avaliação (0 - 5)</th>\n",
       "      <th>Tamanho (Mb)</th>\n",
       "      <th>Tempo no ar (em dias)</th>\n",
       "    </tr>\n",
       "  </thead>\n",
       "  <tbody>\n",
       "    <tr>\n",
       "      <th>count</th>\n",
       "      <td>94.00000</td>\n",
       "      <td>94.000000</td>\n",
       "      <td>94.000000</td>\n",
       "      <td>94.000000</td>\n",
       "    </tr>\n",
       "    <tr>\n",
       "      <th>mean</th>\n",
       "      <td>193106.12766</td>\n",
       "      <td>4.351064</td>\n",
       "      <td>90.297872</td>\n",
       "      <td>378.989362</td>\n",
       "    </tr>\n",
       "    <tr>\n",
       "      <th>std</th>\n",
       "      <td>83619.51466</td>\n",
       "      <td>0.479862</td>\n",
       "      <td>31.111603</td>\n",
       "      <td>12.589033</td>\n",
       "    </tr>\n",
       "    <tr>\n",
       "      <th>min</th>\n",
       "      <td>12954.00000</td>\n",
       "      <td>4.000000</td>\n",
       "      <td>10.000000</td>\n",
       "      <td>360.000000</td>\n",
       "    </tr>\n",
       "    <tr>\n",
       "      <th>25%</th>\n",
       "      <td>146756.50000</td>\n",
       "      <td>4.000000</td>\n",
       "      <td>76.250000</td>\n",
       "      <td>368.000000</td>\n",
       "    </tr>\n",
       "    <tr>\n",
       "      <th>50%</th>\n",
       "      <td>206488.50000</td>\n",
       "      <td>4.000000</td>\n",
       "      <td>92.000000</td>\n",
       "      <td>375.500000</td>\n",
       "    </tr>\n",
       "    <tr>\n",
       "      <th>75%</th>\n",
       "      <td>256595.50000</td>\n",
       "      <td>5.000000</td>\n",
       "      <td>108.000000</td>\n",
       "      <td>389.750000</td>\n",
       "    </tr>\n",
       "    <tr>\n",
       "      <th>max</th>\n",
       "      <td>308516.00000</td>\n",
       "      <td>5.000000</td>\n",
       "      <td>157.000000</td>\n",
       "      <td>405.000000</td>\n",
       "    </tr>\n",
       "  </tbody>\n",
       "</table>\n",
       "</div>"
      ],
      "text/plain": [
       "       Download (número)  Avaliação (0 - 5)  Tamanho (Mb)  \\\n",
       "count           94.00000          94.000000     94.000000   \n",
       "mean        193106.12766           4.351064     90.297872   \n",
       "std          83619.51466           0.479862     31.111603   \n",
       "min          12954.00000           4.000000     10.000000   \n",
       "25%         146756.50000           4.000000     76.250000   \n",
       "50%         206488.50000           4.000000     92.000000   \n",
       "75%         256595.50000           5.000000    108.000000   \n",
       "max         308516.00000           5.000000    157.000000   \n",
       "\n",
       "       Tempo no ar (em dias)  \n",
       "count              94.000000  \n",
       "mean              378.989362  \n",
       "std                12.589033  \n",
       "min               360.000000  \n",
       "25%               368.000000  \n",
       "50%               375.500000  \n",
       "75%               389.750000  \n",
       "max               405.000000  "
      ]
     },
     "execution_count": 45,
     "metadata": {},
     "output_type": "execute_result"
    }
   ],
   "source": [
    "apps_utilitario.describe()"
   ]
  },
  {
   "cell_type": "code",
   "execution_count": 46,
   "metadata": {},
   "outputs": [
    {
     "data": {
      "text/html": [
       "<div>\n",
       "<style scoped>\n",
       "    .dataframe tbody tr th:only-of-type {\n",
       "        vertical-align: middle;\n",
       "    }\n",
       "\n",
       "    .dataframe tbody tr th {\n",
       "        vertical-align: top;\n",
       "    }\n",
       "\n",
       "    .dataframe thead th {\n",
       "        text-align: right;\n",
       "    }\n",
       "</style>\n",
       "<table border=\"1\" class=\"dataframe\">\n",
       "  <thead>\n",
       "    <tr style=\"text-align: right;\">\n",
       "      <th></th>\n",
       "      <th>Download (número)</th>\n",
       "      <th>Avaliação (0 - 5)</th>\n",
       "      <th>Tamanho (Mb)</th>\n",
       "      <th>Tempo no ar (em dias)</th>\n",
       "    </tr>\n",
       "  </thead>\n",
       "  <tbody>\n",
       "    <tr>\n",
       "      <th>count</th>\n",
       "      <td>138.000000</td>\n",
       "      <td>138.000000</td>\n",
       "      <td>138.000000</td>\n",
       "      <td>138.000000</td>\n",
       "    </tr>\n",
       "    <tr>\n",
       "      <th>mean</th>\n",
       "      <td>153102.144928</td>\n",
       "      <td>3.282609</td>\n",
       "      <td>78.398551</td>\n",
       "      <td>340.362319</td>\n",
       "    </tr>\n",
       "    <tr>\n",
       "      <th>std</th>\n",
       "      <td>89825.282518</td>\n",
       "      <td>0.566577</td>\n",
       "      <td>30.941324</td>\n",
       "      <td>14.265953</td>\n",
       "    </tr>\n",
       "    <tr>\n",
       "      <th>min</th>\n",
       "      <td>14886.000000</td>\n",
       "      <td>2.000000</td>\n",
       "      <td>16.000000</td>\n",
       "      <td>303.000000</td>\n",
       "    </tr>\n",
       "    <tr>\n",
       "      <th>25%</th>\n",
       "      <td>79786.750000</td>\n",
       "      <td>3.000000</td>\n",
       "      <td>58.250000</td>\n",
       "      <td>331.000000</td>\n",
       "    </tr>\n",
       "    <tr>\n",
       "      <th>50%</th>\n",
       "      <td>129696.500000</td>\n",
       "      <td>3.000000</td>\n",
       "      <td>72.500000</td>\n",
       "      <td>343.000000</td>\n",
       "    </tr>\n",
       "    <tr>\n",
       "      <th>75%</th>\n",
       "      <td>234236.000000</td>\n",
       "      <td>4.000000</td>\n",
       "      <td>99.750000</td>\n",
       "      <td>350.750000</td>\n",
       "    </tr>\n",
       "    <tr>\n",
       "      <th>max</th>\n",
       "      <td>309906.000000</td>\n",
       "      <td>4.000000</td>\n",
       "      <td>183.000000</td>\n",
       "      <td>364.000000</td>\n",
       "    </tr>\n",
       "  </tbody>\n",
       "</table>\n",
       "</div>"
      ],
      "text/plain": [
       "       Download (número)  Avaliação (0 - 5)  Tamanho (Mb)  \\\n",
       "count         138.000000         138.000000    138.000000   \n",
       "mean       153102.144928           3.282609     78.398551   \n",
       "std         89825.282518           0.566577     30.941324   \n",
       "min         14886.000000           2.000000     16.000000   \n",
       "25%         79786.750000           3.000000     58.250000   \n",
       "50%        129696.500000           3.000000     72.500000   \n",
       "75%        234236.000000           4.000000     99.750000   \n",
       "max        309906.000000           4.000000    183.000000   \n",
       "\n",
       "       Tempo no ar (em dias)  \n",
       "count             138.000000  \n",
       "mean              340.362319  \n",
       "std                14.265953  \n",
       "min               303.000000  \n",
       "25%               331.000000  \n",
       "50%               343.000000  \n",
       "75%               350.750000  \n",
       "max               364.000000  "
      ]
     },
     "execution_count": 46,
     "metadata": {},
     "output_type": "execute_result"
    }
   ],
   "source": [
    "apps_entretenimento.describe()"
   ]
  },
  {
   "cell_type": "code",
   "execution_count": 47,
   "metadata": {},
   "outputs": [
    {
     "data": {
      "text/html": [
       "<div>\n",
       "<style scoped>\n",
       "    .dataframe tbody tr th:only-of-type {\n",
       "        vertical-align: middle;\n",
       "    }\n",
       "\n",
       "    .dataframe tbody tr th {\n",
       "        vertical-align: top;\n",
       "    }\n",
       "\n",
       "    .dataframe thead th {\n",
       "        text-align: right;\n",
       "    }\n",
       "</style>\n",
       "<table border=\"1\" class=\"dataframe\">\n",
       "  <thead>\n",
       "    <tr style=\"text-align: right;\">\n",
       "      <th></th>\n",
       "      <th>Download (número)</th>\n",
       "      <th>Avaliação (0 - 5)</th>\n",
       "      <th>Tamanho (Mb)</th>\n",
       "      <th>Tempo no ar (em dias)</th>\n",
       "    </tr>\n",
       "  </thead>\n",
       "  <tbody>\n",
       "    <tr>\n",
       "      <th>count</th>\n",
       "      <td>49.000000</td>\n",
       "      <td>49.000000</td>\n",
       "      <td>49.000000</td>\n",
       "      <td>49.000000</td>\n",
       "    </tr>\n",
       "    <tr>\n",
       "      <th>mean</th>\n",
       "      <td>183315.510204</td>\n",
       "      <td>2.122449</td>\n",
       "      <td>87.122449</td>\n",
       "      <td>299.469388</td>\n",
       "    </tr>\n",
       "    <tr>\n",
       "      <th>std</th>\n",
       "      <td>69331.964371</td>\n",
       "      <td>0.725507</td>\n",
       "      <td>21.148909</td>\n",
       "      <td>18.210691</td>\n",
       "    </tr>\n",
       "    <tr>\n",
       "      <th>min</th>\n",
       "      <td>27824.000000</td>\n",
       "      <td>1.000000</td>\n",
       "      <td>33.000000</td>\n",
       "      <td>258.000000</td>\n",
       "    </tr>\n",
       "    <tr>\n",
       "      <th>25%</th>\n",
       "      <td>137477.000000</td>\n",
       "      <td>2.000000</td>\n",
       "      <td>74.000000</td>\n",
       "      <td>289.000000</td>\n",
       "    </tr>\n",
       "    <tr>\n",
       "      <th>50%</th>\n",
       "      <td>193074.000000</td>\n",
       "      <td>2.000000</td>\n",
       "      <td>89.000000</td>\n",
       "      <td>302.000000</td>\n",
       "    </tr>\n",
       "    <tr>\n",
       "      <th>75%</th>\n",
       "      <td>239272.000000</td>\n",
       "      <td>3.000000</td>\n",
       "      <td>102.000000</td>\n",
       "      <td>316.000000</td>\n",
       "    </tr>\n",
       "    <tr>\n",
       "      <th>max</th>\n",
       "      <td>293256.000000</td>\n",
       "      <td>3.000000</td>\n",
       "      <td>128.000000</td>\n",
       "      <td>322.000000</td>\n",
       "    </tr>\n",
       "  </tbody>\n",
       "</table>\n",
       "</div>"
      ],
      "text/plain": [
       "       Download (número)  Avaliação (0 - 5)  Tamanho (Mb)  \\\n",
       "count          49.000000          49.000000     49.000000   \n",
       "mean       183315.510204           2.122449     87.122449   \n",
       "std         69331.964371           0.725507     21.148909   \n",
       "min         27824.000000           1.000000     33.000000   \n",
       "25%        137477.000000           2.000000     74.000000   \n",
       "50%        193074.000000           2.000000     89.000000   \n",
       "75%        239272.000000           3.000000    102.000000   \n",
       "max        293256.000000           3.000000    128.000000   \n",
       "\n",
       "       Tempo no ar (em dias)  \n",
       "count              49.000000  \n",
       "mean              299.469388  \n",
       "std                18.210691  \n",
       "min               258.000000  \n",
       "25%               289.000000  \n",
       "50%               302.000000  \n",
       "75%               316.000000  \n",
       "max               322.000000  "
      ]
     },
     "execution_count": 47,
     "metadata": {},
     "output_type": "execute_result"
    }
   ],
   "source": [
    "apps_redesSocial.describe()"
   ]
  },
  {
   "cell_type": "code",
   "execution_count": 48,
   "metadata": {},
   "outputs": [
    {
     "data": {
      "text/html": [
       "<div>\n",
       "<style scoped>\n",
       "    .dataframe tbody tr th:only-of-type {\n",
       "        vertical-align: middle;\n",
       "    }\n",
       "\n",
       "    .dataframe tbody tr th {\n",
       "        vertical-align: top;\n",
       "    }\n",
       "\n",
       "    .dataframe thead th {\n",
       "        text-align: right;\n",
       "    }\n",
       "</style>\n",
       "<table border=\"1\" class=\"dataframe\">\n",
       "  <thead>\n",
       "    <tr style=\"text-align: right;\">\n",
       "      <th></th>\n",
       "      <th>Download (número)</th>\n",
       "      <th>Avaliação (0 - 5)</th>\n",
       "      <th>Tamanho (Mb)</th>\n",
       "      <th>Tempo no ar (em dias)</th>\n",
       "    </tr>\n",
       "  </thead>\n",
       "  <tbody>\n",
       "    <tr>\n",
       "      <th>count</th>\n",
       "      <td>35.000000</td>\n",
       "      <td>35.000000</td>\n",
       "      <td>35.000000</td>\n",
       "      <td>35.000000</td>\n",
       "    </tr>\n",
       "    <tr>\n",
       "      <th>mean</th>\n",
       "      <td>137441.485714</td>\n",
       "      <td>4.885714</td>\n",
       "      <td>74.057143</td>\n",
       "      <td>410.000000</td>\n",
       "    </tr>\n",
       "    <tr>\n",
       "      <th>std</th>\n",
       "      <td>89249.778169</td>\n",
       "      <td>0.322803</td>\n",
       "      <td>30.202204</td>\n",
       "      <td>20.531181</td>\n",
       "    </tr>\n",
       "    <tr>\n",
       "      <th>min</th>\n",
       "      <td>26949.000000</td>\n",
       "      <td>4.000000</td>\n",
       "      <td>32.000000</td>\n",
       "      <td>380.000000</td>\n",
       "    </tr>\n",
       "    <tr>\n",
       "      <th>25%</th>\n",
       "      <td>55620.000000</td>\n",
       "      <td>5.000000</td>\n",
       "      <td>49.000000</td>\n",
       "      <td>393.500000</td>\n",
       "    </tr>\n",
       "    <tr>\n",
       "      <th>50%</th>\n",
       "      <td>114270.000000</td>\n",
       "      <td>5.000000</td>\n",
       "      <td>68.000000</td>\n",
       "      <td>410.000000</td>\n",
       "    </tr>\n",
       "    <tr>\n",
       "      <th>75%</th>\n",
       "      <td>209662.000000</td>\n",
       "      <td>5.000000</td>\n",
       "      <td>92.500000</td>\n",
       "      <td>414.500000</td>\n",
       "    </tr>\n",
       "    <tr>\n",
       "      <th>max</th>\n",
       "      <td>305825.000000</td>\n",
       "      <td>5.000000</td>\n",
       "      <td>146.000000</td>\n",
       "      <td>467.000000</td>\n",
       "    </tr>\n",
       "  </tbody>\n",
       "</table>\n",
       "</div>"
      ],
      "text/plain": [
       "       Download (número)  Avaliação (0 - 5)  Tamanho (Mb)  \\\n",
       "count          35.000000          35.000000     35.000000   \n",
       "mean       137441.485714           4.885714     74.057143   \n",
       "std         89249.778169           0.322803     30.202204   \n",
       "min         26949.000000           4.000000     32.000000   \n",
       "25%         55620.000000           5.000000     49.000000   \n",
       "50%        114270.000000           5.000000     68.000000   \n",
       "75%        209662.000000           5.000000     92.500000   \n",
       "max        305825.000000           5.000000    146.000000   \n",
       "\n",
       "       Tempo no ar (em dias)  \n",
       "count              35.000000  \n",
       "mean              410.000000  \n",
       "std                20.531181  \n",
       "min               380.000000  \n",
       "25%               393.500000  \n",
       "50%               410.000000  \n",
       "75%               414.500000  \n",
       "max               467.000000  "
      ]
     },
     "execution_count": 48,
     "metadata": {},
     "output_type": "execute_result"
    }
   ],
   "source": [
    "apps_cientifico.describe()"
   ]
  },
  {
   "cell_type": "markdown",
   "metadata": {},
   "source": [
    "Observando as categorias, podemos observar que há uma categoria dominante, que é a de entretenimento, com `138` aplicativos. Observando o **número de Downloads**, temos a média dos mais baixados são os **aplicativos utilitários** e também com maior **tamanho**. Os **aplicativos científicos** compõem um grupo que possuem **melhor avaliação** e também com maior **tempo no ar**, porém vale notar que, os **aplicativos científicos** são minoria na amostra por categoria e representam apenas `35` dos `316`, esse valor por sua vez pode representar apenas uma parcela pequena se comparada com toda a população de aplicativos científicos; logo, vale ter cuidado ao tirar conclusões e outros estudos são necessários para uma maior certeza."
   ]
  },
  {
   "cell_type": "markdown",
   "metadata": {},
   "source": [
    "## 2. Estimação Pontual\n",
    "\n",
    "Para a Estimação Pontual, vamos utilizar o conjunto de amostras de `Tamanho (Mb)`, veja que essa amostragem é simples e aleatória, e com a estimação Pontual buscamos observar os valores da amostra para estimar os valores da nossa população. Iremos trabalhar com 3 amostras (10, 50 e 100 exemplos de um total de 316 exemplos da população) que irão tentar estimar o valor da população."
   ]
  },
  {
   "cell_type": "markdown",
   "metadata": {},
   "source": [
    "### 2.1 Seleção dos estimadores\n",
    "\n",
    "Vamos utilizar 2 estimadores para esse conjunto de dados, a **média amostral** e também a **variância amostral**. Pois a média amostral considera todos os valores de nossa amostra e a variância garante a exatidão do nosso conjunto de dados em torno de nossa média."
   ]
  },
  {
   "cell_type": "markdown",
   "metadata": {},
   "source": [
    "### 2.2 Criando nossos estimadores amostrais\n",
    "\n",
    "Para isso vamos utilizar duas ferramentas da biblioteca `pandas`: `mean()` que consiste na função que obtém a média de um conjunto de dados e `var()` que consiste na função que obtém a variância não viciada de um conjunto de dados."
   ]
  },
  {
   "cell_type": "code",
   "execution_count": 49,
   "metadata": {},
   "outputs": [],
   "source": [
    "# Função para calcular a estimativa de uma amostra\n",
    "def calcular_estimacao_amostral(amostra: pd.DataFrame):\n",
    "    media_amostral = float(amostra.mean())\n",
    "    variancia_amostral = float(amostra.var())\n",
    "\n",
    "    return media_amostral, variancia_amostral"
   ]
  },
  {
   "cell_type": "markdown",
   "metadata": {},
   "source": [
    "### 2.3 Calculando as Estimativas\n",
    "\n",
    "Vamos estimar por meio do cálculo amostral de média e variância e iremos comparar o resultado com os parâmetros."
   ]
  },
  {
   "cell_type": "code",
   "execution_count": 50,
   "metadata": {},
   "outputs": [],
   "source": [
    "estimativa = []\n",
    "for amostra in amostra_tam:\n",
    "    estimativa.append(calcular_estimacao_amostral(amostra))"
   ]
  },
  {
   "cell_type": "markdown",
   "metadata": {},
   "source": [
    "Vamos comparar as estimativas do `Tamanho (Mb)` com o valor do parâmetro."
   ]
  },
  {
   "cell_type": "code",
   "execution_count": 51,
   "metadata": {},
   "outputs": [
    {
     "name": "stdout",
     "output_type": "stream",
     "text": [
      "Estudo sobre a população de aplicativos e seus respectivos tamanhos e\n",
      "amostras diversas que aproximam suas estimativas com os parâmetros.\n",
      "\n",
      "Parâmetro: (82.81012658227849, 905.4241510950372)\n",
      "Amostra 1: (75.6, 674.7111111111112)\n",
      "Amostra 2: (90.84, 976.8310204081633)\n",
      "Amostra 3: (80.05, 880.8156565656566)\n"
     ]
    }
   ],
   "source": [
    "dados_tam = dados['Tamanho (Mb)']\n",
    "\n",
    "print(\"Estudo sobre a população de aplicativos e seus respectivos tamanhos e\")\n",
    "print(\"amostras diversas que aproximam suas estimativas com os parâmetros.\\n\")\n",
    "print(f\"Parâmetro: ({dados_tam.mean()}, {dados_tam.var()})\")\n",
    "print(f\"Amostra 1: {estimativa[0]}\")\n",
    "print(f\"Amostra 2: {estimativa[1]}\")\n",
    "print(f\"Amostra 3: {estimativa[2]}\")\n"
   ]
  },
  {
   "cell_type": "markdown",
   "metadata": {},
   "source": [
    "Como visto na seção de amostras, separamos em 3 amostras aleatórias simples:\n",
    "\n",
    "- Amostra 1: 10 exemplos\n",
    "- Amostra 2: 50 exemplos\n",
    "- Amostra 3: 100 exemplos\n",
    "\n",
    "Observe que a amostra 1 se distancia bastante do parâmetro, todavia quando vemos a amostra 2 e 3, podemos observar que essas duas se aproximam ainda mais do nosso parâmetro. Dessa forma vale observar que quanto maior o número de exemplos a estimativa é mais precisa do nosso parâmetro."
   ]
  },
  {
   "cell_type": "markdown",
   "metadata": {},
   "source": [
    "## 3. Análise Intervalar"
   ]
  },
  {
   "cell_type": "markdown",
   "metadata": {},
   "source": [
    "Ainda trabalhando sobre o conjunto de amostras de `Tamanho (Mb)`, porém dessa vez iremos trabalhar com a amostra de 100 exemplos, nós agora iremos observar uma análise intervalar dessa amostra, com uma confiança de **90%** e também sabemos a variância dessa população."
   ]
  },
  {
   "cell_type": "markdown",
   "metadata": {},
   "source": [
    "### 3.1 Selecionar informações cruciais para o Intervalo de confiança\n",
    "\n",
    "O intervalo de confiança, consiste no intervalo de valores que podemos construir sob um coeficiente de confiança, visto que os dados de nossa população obedecem a uma distribuição normal, onde `T ~ N(μ,30)`. Para tal, foi estabelecido um intervalo de confiança de 95%, do qual irá demonstrar um intervalo que a média amostral irá variar para mais ou para menos. Nesse caso, precisamos saber a `P(Z < z)`, para um intervalo de confiança de 95%, como são 2 caudas, teremos que consultar o valor de `z`.\n",
    "\n",
    "\n",
    "\n",
    "Consultando a tabela da normal, temos que `z (95%) = 1,96`"
   ]
  },
  {
   "cell_type": "code",
   "execution_count": 52,
   "metadata": {},
   "outputs": [],
   "source": [
    "ZIC = 1.96"
   ]
  },
  {
   "cell_type": "markdown",
   "metadata": {},
   "source": [
    "### 3.2 Calculando o Intervalo de confiança\n",
    "\n",
    "Para calcular o Intervalo de confiança, basta aplicar a fórmula de normalização e estabelecer o intervalo da média."
   ]
  },
  {
   "cell_type": "code",
   "execution_count": 53,
   "metadata": {},
   "outputs": [],
   "source": [
    "import math\n",
    "\n",
    "def intervalo_confianca(media, variancia, tam_amostra, z):\n",
    "    intervalo_menor = media - z*(math.sqrt(variancia/tam_amostra))\n",
    "    intervalo_maior = media + z*(math.sqrt(variancia/tam_amostra))\n",
    "\n",
    "    return intervalo_menor, intervalo_maior\n"
   ]
  },
  {
   "cell_type": "markdown",
   "metadata": {},
   "source": [
    "Fazendo isso, podemos calcular o intervalo de confiança para a nossa amostra de `Tamanho (Mb)` com 100 exemplos."
   ]
  },
  {
   "cell_type": "code",
   "execution_count": 54,
   "metadata": {},
   "outputs": [
    {
     "name": "stdout",
     "output_type": "stream",
     "text": [
      "(76.99313300632997, 88.627120158227)\n"
     ]
    }
   ],
   "source": [
    "intervalo_confianca_amostra_tam100 = intervalo_confianca(\n",
    "      dados['Tamanho (Mb)'].mean(),\n",
    "      amostra_tam100.var(),\n",
    "      amostra_tam100.count(),\n",
    "      ZIC\n",
    ")\n",
    "\n",
    "print(intervalo_confianca_amostra_tam100)"
   ]
  },
  {
   "cell_type": "markdown",
   "metadata": {},
   "source": [
    "Com isso obtemos que o nosso intervalo de confiança é de [`76,99`,`88.63`], note que estabelecemos um intervalo de confiança alto para essa amostra, visto que essa amostra representa cerca de 1/3 de nossa população, logo é uma amostra que representa um alto nível de confiança. Vale lembrar que, em um caso real, amostras que representam uma população na área de tecnologia, costuma apresentar um erro pequeno se comparado à outras áreas de pesquisa."
   ]
  },
  {
   "cell_type": "markdown",
   "metadata": {},
   "source": [
    "## 4. Teste de Hipótese para a média"
   ]
  },
  {
   "cell_type": "markdown",
   "metadata": {},
   "source": [
    "### 4.1 Formulação do problema da hipótese\n",
    "\n",
    "Imagine que desejamos saber se uma determinada amostra de aplicativos corresponde ao grupo _premium_ de apps do repositório de aplicativos, tal amostra deve possuir uma avaliação maior que `4` avaliações. Logo, dada uma amostra de 20 aplicativos, determine se o grupo de apps faz parte de um grupo _premium_ de apps ou não. Estabeleça que para as amostras nível de significância é de `α = 3%`.\n",
    "\n"
   ]
  },
  {
   "cell_type": "markdown",
   "metadata": {},
   "source": [
    "### 4.2 Estabelecendo Hipóteses\n",
    "\n",
    "Para a hipótese nula (`H0`), devemos mostrar que os aplicativos se mantém em um cenário normal e não pertence ao grupo de aplicativos premium da loja, já para a hipótese alternativa (`H1`), é que o grupo de aplicativos pertencem a um grupo premium de aplicativos. Logo, temos as seguintes hipóteses:\n",
    "\n",
    "`H0: μ < 4` (o grupo de apps não faz parte da seleção _premium_)\n",
    "\n",
    "`H1: μ ≥ 4` (o grupo de apps pertence a seleção _premium_)\n",
    "\n",
    "Portando, trata-se de um teste unilateral."
   ]
  },
  {
   "cell_type": "markdown",
   "metadata": {},
   "source": [
    "### 4.3 Fixar μ e obter a região crítica\n",
    "\n",
    "Vamos usar duas amostras para esse teste de hipótese, uma amostra aleatória dos dados e outra amostra que representa os aplicativos de categoria científica. Para ambos a média amostral se segue:"
   ]
  },
  {
   "cell_type": "code",
   "execution_count": 68,
   "metadata": {},
   "outputs": [
    {
     "name": "stdout",
     "output_type": "stream",
     "text": [
      "Média amostral amostra aleatória: 3.35\n",
      "Média amostral amostra cat. científica: 4.9\n"
     ]
    }
   ],
   "source": [
    "media_amostral_aleatorio_20 = amostra_ale20['Avaliação (0 - 5)'].mean()\n",
    "media_amostral_catCientifica_20 = amostra_cie20['Avaliação (0 - 5)'].mean()\n",
    "\n",
    "print(f\"Média amostral amostra aleatória: {media_amostral_aleatorio_20}\")\n",
    "print(f\"Média amostral amostra cat. científica: {media_amostral_catCientifica_20}\")\n"
   ]
  },
  {
   "cell_type": "markdown",
   "metadata": {},
   "source": [
    "Como o teste é unilateral, podemos estabelecer que a área da curva a direita, com `α = 3%` será `P(Z < Zc) = 0,03`, logo `Zc (tab. Normal de 0.03 da cauda direita) ≃ 1.88` "
   ]
  },
  {
   "cell_type": "code",
   "execution_count": 70,
   "metadata": {},
   "outputs": [],
   "source": [
    "ZIC_HIPOTESE = 1.88"
   ]
  },
  {
   "cell_type": "markdown",
   "metadata": {},
   "source": [
    "O desvio-padrão da população é conhecido, logo, podemos usar a seguinte fórmula da área crítica:"
   ]
  },
  {
   "cell_type": "code",
   "execution_count": 102,
   "metadata": {},
   "outputs": [],
   "source": [
    "import math\n",
    "\n",
    "def valor_critico(media, variancia, tam_populacao, z):\n",
    "    return media - z*(math.sqrt(variancia/tam_populacao))\n"
   ]
  },
  {
   "cell_type": "markdown",
   "metadata": {},
   "source": [
    "### 4.4 Concluir o teste com base na estimativa e na região crítica"
   ]
  },
  {
   "cell_type": "markdown",
   "metadata": {},
   "source": [
    "Aplicamos as fórmulas para nossas duas amostras e em seguida devemos testar se o valor de `Xc` para cada normal."
   ]
  },
  {
   "cell_type": "code",
   "execution_count": 104,
   "metadata": {},
   "outputs": [],
   "source": [
    "variancia_avaliacao = dados['Avaliação (0 - 5)'].var()\n",
    "Xc_aleatorio = valor_critico(\n",
    "    media_amostral_aleatorio_20, variancia_avaliacao, 20, ZIC_HIPOTESE)\n",
    "Xc_cientifico = valor_critico(\n",
    "    media_amostral_catCientifica_20, variancia_avaliacao, 20, ZIC_HIPOTESE)\n"
   ]
  },
  {
   "cell_type": "markdown",
   "metadata": {},
   "source": [
    "Agora, vamos verificar se nossas amostras pertencem ou não ao grupo _premium_.\n",
    "\n",
    "Para o grupo de amostras aleatórias, constatamos que:"
   ]
  },
  {
   "cell_type": "code",
   "execution_count": 105,
   "metadata": {},
   "outputs": [
    {
     "data": {
      "text/plain": [
       "False"
      ]
     },
     "execution_count": 105,
     "metadata": {},
     "output_type": "execute_result"
    }
   ],
   "source": [
    "True if 4 < Xc_aleatorio else False\n"
   ]
  },
  {
   "cell_type": "markdown",
   "metadata": {},
   "source": [
    "Logo, a hipótese para o grupo aleatório é nula, e esse grupo não pertence ao grupo _premium_\n",
    "\n",
    "Porém, para a o grupo de amostras de **categoria científica**:"
   ]
  },
  {
   "cell_type": "code",
   "execution_count": 106,
   "metadata": {},
   "outputs": [
    {
     "data": {
      "text/plain": [
       "True"
      ]
     },
     "execution_count": 106,
     "metadata": {},
     "output_type": "execute_result"
    }
   ],
   "source": [
    "True if 4 < Xc_cientifico else False\n"
   ]
  },
  {
   "cell_type": "markdown",
   "metadata": {},
   "source": [
    "## 5. Teste de Hipótese de Independência\n",
    "\n",
    "Bom e se quisermos observar a independência entre as categorias? mais especificamente, será que conseguimos dizer que as médias são diferentes entre si? Como saber se as categorias apresentam médias de downloads independentes entre si? Podemos criar a seguinte hipótese para verificar isso:\n",
    "\n",
    "`H0: μc = μe = μr = μu` (as médias populacionais são iguais)\n",
    "\n",
    "`H1: μc ≠ μe ≠ μr ≠ μu` (as médias populacionais são diferentes, ou pelo menos uma das médias é diferente)\n",
    "\n",
    "Visto que temos 1 atributo categórico (Categoria) e 1 atributo contínuo (Downloads), podemos utilizar o método de ANálise de VARiância (ANOVA) para obter informações que provam que nossa hipótese nula é falsa.\n",
    "\n",
    "Para isso, vamos utilizar uma implementação em Python que calcula `F` e `p-valor` do nosso conjunto de dados para que possamos tirar conclusões.\n",
    "\n",
    "Nossa amostra, irá se tratar dos exemplos obtidos no item 2, logo:"
   ]
  },
  {
   "cell_type": "code",
   "execution_count": 141,
   "metadata": {},
   "outputs": [],
   "source": [
    "# Separando minha amostra\n",
    "\n",
    "download_cientifico = apps_cientifico['Download (número)'].values\n",
    "download_utilitario = apps_utilitario['Download (número)'].values\n",
    "download_redesSocial = apps_redesSocial['Download (número)'].values\n",
    "download_entretenimento = apps_entretenimento['Download (número)'].values"
   ]
  },
  {
   "cell_type": "code",
   "execution_count": 142,
   "metadata": {},
   "outputs": [],
   "source": [
    "from scipy.stats import f_oneway\n",
    "\n",
    "# Teste ANOVA one_way\n",
    "F, p_valor = f_oneway(download_cientifico, download_utilitario, \n",
    "                      download_redesSocial, download_entretenimento)"
   ]
  },
  {
   "cell_type": "code",
   "execution_count": 146,
   "metadata": {},
   "outputs": [
    {
     "name": "stdout",
     "output_type": "stream",
     "text": [
      "F-Statistic=6.176475, p=0.000434\n"
     ]
    }
   ],
   "source": [
    "print('F-Statistic = %f, p-valor = %f' % (F, p_valor))"
   ]
  },
  {
   "cell_type": "markdown",
   "metadata": {},
   "source": [
    "Como `F` é relativamente alto e `p-valor` é menor que o limiar de `0.05`, podemos rejeitar a Hipótese Nula (`H0`) e aceitar a Hipótese alternativa que há médias independentes."
   ]
  },
  {
   "cell_type": "markdown",
   "metadata": {},
   "source": [
    "## 6. Estudo de Regressão\n",
    "\n",
    "Para analisar se é possível observar alguma regressão em nossos dados, é necessário identificar onde ocorre regressão linear entre os nossos dados."
   ]
  },
  {
   "cell_type": "markdown",
   "metadata": {},
   "source": [
    "### 6.1 Testando se há linearidade entre meus dados\n",
    "\n",
    "Vamos testar os valores, e se encontrarmos alguma correlação linear, poderemos observar um fator linear."
   ]
  },
  {
   "cell_type": "code",
   "execution_count": 107,
   "metadata": {},
   "outputs": [],
   "source": [
    "import matplotlib.pyplot as plt\n",
    "\n",
    "dados_download = dados['Download (número)'].values\n",
    "dados_tamanho = dados['Tamanho (Mb)'].values\n",
    "dados_tempo = dados['Tempo no ar (em dias)'].values"
   ]
  },
  {
   "cell_type": "markdown",
   "metadata": {},
   "source": [
    "Observe que, não consideramos os dados discretos, pois variáveis discretas possuem um nível limitado de valores!"
   ]
  },
  {
   "cell_type": "markdown",
   "metadata": {},
   "source": [
    "#### Relação entre Tamanho e Tempo no ar"
   ]
  },
  {
   "cell_type": "code",
   "execution_count": 112,
   "metadata": {},
   "outputs": [
    {
     "data": {
      "text/plain": [
       "[<matplotlib.lines.Line2D at 0x7fd45c37bb20>]"
      ]
     },
     "execution_count": 112,
     "metadata": {},
     "output_type": "execute_result"
    },
    {
     "data": {
      "image/png": "[encoded data removed]",
      "text/plain": [
       "<Figure size 432x288 with 1 Axes>"
      ]
     },
     "metadata": {
      "needs_background": "light"
     },
     "output_type": "display_data"
    }
   ],
   "source": [
    "plt.plot(dados_tamanho, dados_tempo, 'o')"
   ]
  },
  {
   "cell_type": "markdown",
   "metadata": {},
   "source": [
    "Vemos que, não há uma relação linear explícita entre os dados."
   ]
  },
  {
   "cell_type": "markdown",
   "metadata": {},
   "source": [
    "#### Relação entre Download e Tempo no ar"
   ]
  },
  {
   "cell_type": "code",
   "execution_count": 117,
   "metadata": {},
   "outputs": [
    {
     "data": {
      "text/plain": [
       "[<matplotlib.lines.Line2D at 0x7fd454cbd670>]"
      ]
     },
     "execution_count": 117,
     "metadata": {},
     "output_type": "execute_result"
    },
    {
     "data": {
      "image/png": "[encoded data removed]",
      "text/plain": [
       "<Figure size 432x288 with 1 Axes>"
      ]
     },
     "metadata": {
      "needs_background": "light"
     },
     "output_type": "display_data"
    }
   ],
   "source": [
    "plt.plot(dados_download, dados_tempo, 'o')"
   ]
  },
  {
   "cell_type": "markdown",
   "metadata": {},
   "source": [
    "Novamente, não encontramos uma relação linear entre os dados."
   ]
  },
  {
   "cell_type": "markdown",
   "metadata": {},
   "source": [
    "#### Relação entre Tamanho e Download"
   ]
  },
  {
   "cell_type": "code",
   "execution_count": 116,
   "metadata": {},
   "outputs": [
    {
     "data": {
      "text/plain": [
       "[<matplotlib.lines.Line2D at 0x7fd454cf2070>]"
      ]
     },
     "execution_count": 116,
     "metadata": {},
     "output_type": "execute_result"
    },
    {
     "data": {
      "image/png": "[encoded data removed]",
      "text/plain": [
       "<Figure size 432x288 with 1 Axes>"
      ]
     },
     "metadata": {
      "needs_background": "light"
     },
     "output_type": "display_data"
    }
   ],
   "source": [
    "plt.plot(dados_tamanho, dados_download, 'o')"
   ]
  },
  {
   "cell_type": "markdown",
   "metadata": {},
   "source": [
    "Opa! Parece que encontramos algum padrão entre os dados de Tamanho (Mb) e número de Downloads"
   ]
  },
  {
   "cell_type": "markdown",
   "metadata": {},
   "source": [
    "### 6.2 Aprofundando sobre uma Regressão Linear\n",
    "\n",
    "Bom, sabemos que Tamanho e Download apresentam uma certa relação, parecida com uma relação linear, será que podemos estabelecer um modelo linear sobre esse padrão?\n",
    "\n",
    "Uma das vantagens de se trabalhar em **Python** é a sua capacidade de efetuar tarefas custosas para a análise de dados, vemos que, para estabelecer um modelo de regressão linear é necessário descobrir o `β0` e também o `β1`, a partir de um problema de minimização e aproximando uma reta em correspondência com os \"erros\" presentes em nossos dados.\n",
    "\n",
    "Fato é que, vamos utilizar de uma ferramenta que cria um modelo de regressão, e que treina o mesmo com um vetor de coeficientes que minimiza de acordo com a soma dos quadrados entre os dados e a reta, até que a reta se aproxime do melhor coeficiente possível."
   ]
  },
  {
   "cell_type": "code",
   "execution_count": 126,
   "metadata": {},
   "outputs": [
    {
     "data": {
      "text/plain": [
       "LinearRegression()"
      ]
     },
     "execution_count": 126,
     "metadata": {},
     "output_type": "execute_result"
    }
   ],
   "source": [
    "from sklearn.linear_model import LinearRegression\n",
    "\n",
    "# Normalizando os dados\n",
    "dados_normalizados_tamanho = dados_tamanho.reshape(-1,1)\n",
    "dados_normalizados_download = dados_download.reshape(-1,1)\n",
    "\n",
    "# Treinamento do algoritmo de Regressão Linear\n",
    "model = LinearRegression()\n",
    "model.fit(dados_normalizados_tamanho, dados_normalizados_download)"
   ]
  },
  {
   "cell_type": "markdown",
   "metadata": {},
   "source": [
    "A partir disso, podemos obter algumas informações sobre o nosso modelo de regressão, como seus coeficientes (`β0` e `β1`) e o erro (`ε`):"
   ]
  },
  {
   "cell_type": "code",
   "execution_count": 136,
   "metadata": {},
   "outputs": [
    {
     "name": "stdout",
     "output_type": "stream",
     "text": [
      "O modelo estabelece que Downloads = -6.6605e+04 + 2832.5X + ε\n"
     ]
    }
   ],
   "source": [
    "print(\"O modelo estabelece que Downloads = {:.5} + {:.5}X + ε\".format(\n",
    "    model.intercept_[0], model.coef_[0][0]))\n"
   ]
  },
  {
   "cell_type": "markdown",
   "metadata": {},
   "source": [
    "Também podemos montar um gráfico da reta, por meio da previsão do modelo correspondente, vejamos:"
   ]
  },
  {
   "cell_type": "code",
   "execution_count": 135,
   "metadata": {},
   "outputs": [
    {
     "data": {
      "image/png": "[encoded data removed]",
      "text/plain": [
       "<Figure size 1152x576 with 1 Axes>"
      ]
     },
     "metadata": {
      "needs_background": "light"
     },
     "output_type": "display_data"
    }
   ],
   "source": [
    "previsao_modelo = model.predict(dados_normalizados_tamanho)\n",
    "\n",
    "plt.figure(figsize = (16,8))\n",
    "plt.scatter(dados_tamanho, dados_download, c='red')\n",
    "\n",
    "plt.plot(\n",
    "    dados_tamanho,\n",
    "    previsao_modelo,\n",
    "    c='blue',\n",
    "    linewidth=3,\n",
    "    linestyle=':')\n",
    "\n",
    "plt.xlabel(\"Tamanho em Mb\")\n",
    "plt.ylabel(\"Número de Downloads\")\n",
    "plt.show()"
   ]
  },
  {
   "cell_type": "markdown",
   "metadata": {},
   "source": [
    "Logo, podemos concluir que, sim é possível estabelecer um coeficiente de regressão linear, e que se assemelha os pontos na reta, porém apenas inicialmente, após um limiar de cerca de 300.000 Downloads a regressão linear perde sua forma."
   ]
  }
 ],
 "metadata": {
  "interpreter": {
   "hash": "af49ab430f4cc176bd1bb06e00637eff35d9dd49bcc1f90e5fe6006735e8b21b"
  },
  "kernelspec": {
   "display_name": "Python 3.9.12 ('venvCBDGEN': venv)",
   "language": "python",
   "name": "python3"
  },
  "language_info": {
   "codemirror_mode": {
    "name": "ipython",
    "version": 3
   },
   "file_extension": ".py",
   "mimetype": "text/x-python",
   "name": "python",
   "nbconvert_exporter": "python",
   "pygments_lexer": "ipython3",
   "version": "3.9.12"
  },
  "orig_nbformat": 4
 },
 "nbformat": 4,
 "nbformat_minor": 2
}
