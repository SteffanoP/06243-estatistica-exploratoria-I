{
 "cells": [
  {
   "cell_type": "markdown",
   "metadata": {},
   "source": [
    "# Simulando Probabilidades\n",
    "\n",
    "A História de uma moeda de três faces\n",
    "\n",
    "A simulação a seguir se trata da atividade da disciplina de Estatística Exploratória e visa explorar, tal como, simular probabilidades para a obtenção da distribuição de frequência média de resultados. Dessa forma, iremos simular diversos jogos e seus respectivos resultados, visando observar a probabilidade de um jogador ganhar"
   ]
  },
  {
   "cell_type": "markdown",
   "metadata": {},
   "source": [
    "## Gerador Pseudoaleatório\n",
    "\n",
    "Infelizmente, [computadores não são aleatórios](https://pt.stackoverflow.com/questions/9026/como-%C3%A9-gerada-a-randomiza%C3%A7%C3%A3o-pelo-computador) e se faz necessário simular valores pseudoaleatórios. Aqui, vamos utilizar um módulo de pseudo-randomização da linguagem python que utiliza uma série de transformações, mas que possui uma semente baseada na hora. \n",
    "\n",
    "Para todos os jogos iremos utilizar uma função sorteio, do qual consideremos um dado com 6 faces, onde o intervalo de números por cada face pode ser representado pelo intervalo `[1,2,3,4,5,6]` e a possibilidade de cada face cair é a mesma."
   ]
  },
  {
   "cell_type": "code",
   "execution_count": 1,
   "metadata": {},
   "outputs": [],
   "source": [
    "import random as r\n",
    "\n",
    "def get_raffle_number() -> int:\n",
    "    return r.randrange(1,7) # [1,6]"
   ]
  },
  {
   "cell_type": "markdown",
   "metadata": {},
   "source": [
    "### Jogo para 1 dado\n",
    "\n",
    "Também precisamos definir uma função jogo, do qual iremos considerar 3 jogadores e o número de simulações, nesse caso seria a quantidade de jogos que serão efetuados. Essa função será utilizada para obter os resultados de cada jogo e montar uma lista com a distribuição de frequência em que cada jogador ganha um jogo."
   ]
  },
  {
   "cell_type": "code",
   "execution_count": 2,
   "metadata": {},
   "outputs": [],
   "source": [
    "import itertools as it\n",
    "\n",
    "def raffle_1D(p1: list, p2: list, p3: list, simulations: int) -> list:\n",
    "    results = [0, 0, 0]\n",
    "    for _ in range(simulations):\n",
    "        dice = get_raffle_number()\n",
    "        for n1, n2, n3 in it.zip_longest(p1, p2, p3):\n",
    "            if n1 == dice: results[0] += 1\n",
    "            if n2 == dice: results[1] += 1\n",
    "            if n3 == dice: results[2] += 1\n",
    "\n",
    "    return results"
   ]
  },
  {
   "cell_type": "markdown",
   "metadata": {},
   "source": [
    "### Jogo para 2 dados\n",
    "\n",
    "Há jogos em que serão necessário 2 dados, logo vamos também montar uma função para um jogo de 2 dados. Essa função também será utilizada para obter os resultados de cada jogo e montar uma lista com a distribuição de frequência em que cada jogador poderá ganhar o jogo."
   ]
  },
  {
   "cell_type": "code",
   "execution_count": 3,
   "metadata": {},
   "outputs": [],
   "source": [
    "import itertools as it\n",
    "\n",
    "def raffle_2D(p1: list, p2: list, p3: list, simulations: int) -> list:\n",
    "    results = [0,0,0]\n",
    "    for _ in range(simulations):\n",
    "        dice1 = get_raffle_number()\n",
    "        dice2 = get_raffle_number()\n",
    "        for n1, n2, n3 in it.zip_longest(p1, p2, p3):\n",
    "            if n1 != None and (n1[0] == dice1) and (n1[1] == dice2): \n",
    "                results[0] += 1\n",
    "            if n2 != None and (n2[0] == dice1) and (n2[1] == dice2): \n",
    "                results[1] += 1\n",
    "            if n3 != None and (n3[0] == dice1) and (n3[1] == dice2): \n",
    "                results[2] += 1\n",
    "        \n",
    "    return results"
   ]
  },
  {
   "cell_type": "markdown",
   "metadata": {},
   "source": [
    "## Visualização dos dados\n",
    "\n",
    "Para visualizar a distribuições de dados, vamos utilizar `matplotlib` e `numpy` para montar um gráfico de frequência simples e mostrar os pesos de cada simulação."
   ]
  },
  {
   "cell_type": "code",
   "execution_count": 4,
   "metadata": {},
   "outputs": [],
   "source": [
    "import matplotlib.pyplot as plt\n",
    "import numpy as np\n",
    "\n",
    "def draw_it(results: list):\n",
    "    players = [\"Jogador 1\", \"Jogador 2\", \"Jogador 3\"]\n",
    "    labels = [\"Resultados\"]\n",
    "    data = np.array(results)\n",
    "    data_cum = data.cumsum()\n",
    "    category_colors = plt.colormaps['tab10'](\n",
    "        np.linspace(0.15, 0.85, data.shape[0]))\n",
    "\n",
    "    fig, ax = plt.subplots(figsize=(10, 1))\n",
    "    ax.invert_yaxis()\n",
    "    ax.xaxis.set_visible(False)\n",
    "    ax.set_xlim(0, np.sum(data).max())\n",
    "\n",
    "    for i, (colname, color) in enumerate(zip(players, category_colors)):\n",
    "        widths = data[i]\n",
    "        starts = data_cum[i] - widths\n",
    "        rects = ax.barh(labels, widths, left=starts, height=0.5,\n",
    "                        label=colname, color=color)\n",
    "\n",
    "        r, g, b, _ = color\n",
    "        text_color = 'white' if r * g * b < 0.5 else 'darkgrey'\n",
    "        ax.bar_label(rects, label_type='center', color=text_color)\n",
    "    ax.legend(ncol=len(players), bbox_to_anchor=(0, 1),\n",
    "              loc='lower left', fontsize='small')\n",
    "\n",
    "    plt.show()\n",
    "    "
   ]
  },
  {
   "cell_type": "markdown",
   "metadata": {},
   "source": [
    "## Jogo 1: Três jogadores com mesma probabilidade de vitória\n",
    "\n",
    "Vamos mostrar que nesse caso, a distribuição de resultados será igual para as 3 partes e que em teoria um jogador terá `2/6` de chances que corresponde a cerca de `33,33..%` de chances de ganhar o jogo."
   ]
  },
  {
   "cell_type": "code",
   "execution_count": 5,
   "metadata": {},
   "outputs": [],
   "source": [
    "player1 = [1,2]\n",
    "player2 = [3,4]\n",
    "player3 = [5,6]\n",
    "\n",
    "SIMULATIONS = 1000"
   ]
  },
  {
   "cell_type": "code",
   "execution_count": 6,
   "metadata": {},
   "outputs": [
    {
     "data": {
      "image/png": "[encoded data removed]",
      "text/plain": [
       "<Figure size 720x72 with 1 Axes>"
      ]
     },
     "metadata": {
      "needs_background": "light"
     },
     "output_type": "display_data"
    }
   ],
   "source": [
    "results = raffle_1D(player1, player2, player3, SIMULATIONS)\n",
    "draw_it(results)"
   ]
  },
  {
   "cell_type": "markdown",
   "metadata": {},
   "source": [
    "## Jogo 2: Três Jogadores probabilidades diferentes\n",
    "\n",
    "Neste caso, os jogadores possuem probabilidades diferentes."
   ]
  },
  {
   "cell_type": "code",
   "execution_count": 7,
   "metadata": {},
   "outputs": [],
   "source": [
    "player1 = [1]\n",
    "player2 = [2, 3]\n",
    "player3 = [4, 5, 6]\n",
    "\n",
    "SIMULATIONS = 1000"
   ]
  },
  {
   "cell_type": "code",
   "execution_count": 8,
   "metadata": {},
   "outputs": [
    {
     "data": {
      "image/png": "[encoded data removed]",
      "text/plain": [
       "<Figure size 720x72 with 1 Axes>"
      ]
     },
     "metadata": {
      "needs_background": "light"
     },
     "output_type": "display_data"
    }
   ],
   "source": [
    "results = raffle_1D(player1, player2, player3, SIMULATIONS)\n",
    "draw_it(results)"
   ]
  },
  {
   "cell_type": "markdown",
   "metadata": {},
   "source": [
    "## Jogo 3: Três Jogadores com probabilidades diferentes"
   ]
  },
  {
   "cell_type": "code",
   "execution_count": 9,
   "metadata": {},
   "outputs": [],
   "source": [
    "player1 = [1]\n",
    "player2 = [2]\n",
    "player3 = [3, 4, 5, 6]\n",
    "\n",
    "SIMULATIONS = 1000"
   ]
  },
  {
   "cell_type": "code",
   "execution_count": 10,
   "metadata": {},
   "outputs": [
    {
     "data": {
      "image/png": "[encoded data removed]",
      "text/plain": [
       "<Figure size 720x72 with 1 Axes>"
      ]
     },
     "metadata": {
      "needs_background": "light"
     },
     "output_type": "display_data"
    }
   ],
   "source": [
    "results = raffle_1D(player1, player2, player3, SIMULATIONS)\n",
    "draw_it(results)"
   ]
  },
  {
   "cell_type": "markdown",
   "metadata": {},
   "source": [
    "## Jogo 4: Três Jogadores com probabilidade iguais e dois dados"
   ]
  },
  {
   "cell_type": "code",
   "execution_count": 11,
   "metadata": {},
   "outputs": [],
   "source": [
    "player1 = [\n",
    "    (1,1), (1,2), (1,3), (1,4), (1,5), (1,6),\n",
    "    (2,1), (2,2), (3,1), (4,1), (5,1), (6,1)\n",
    "]\n",
    "player2 = [\n",
    "    (2,3), (3,2), (3,3), (3,4), (3,5), (3,6),\n",
    "    (2,4), (4,2), (4,3), (4,4), (5,3), (6,3)\n",
    "]\n",
    "player3 = [\n",
    "    (2,5), (5,2), (4,5), (5,4), (5,5), (5,6),\n",
    "    (2,6), (6,2), (4,6), (6,4), (6,5), (6,6)\n",
    "]\n",
    "\n",
    "SIMULATIONS = 1000"
   ]
  },
  {
   "cell_type": "code",
   "execution_count": 12,
   "metadata": {},
   "outputs": [
    {
     "data": {
      "image/png": "[encoded data removed]",
      "text/plain": [
       "<Figure size 720x72 with 1 Axes>"
      ]
     },
     "metadata": {
      "needs_background": "light"
     },
     "output_type": "display_data"
    }
   ],
   "source": [
    "results = raffle_2D(player1, player2, player3, SIMULATIONS)\n",
    "draw_it(results)"
   ]
  },
  {
   "cell_type": "markdown",
   "metadata": {},
   "source": [
    "## Jogo 5: Três Jogadores com probabilidade diferentes e dois dados"
   ]
  },
  {
   "cell_type": "code",
   "execution_count": 13,
   "metadata": {},
   "outputs": [],
   "source": [
    "player1 = [\n",
    "    (1,1), (1,2),  \n",
    "    (2,1), (2,2) \n",
    "]\n",
    "player2 = [\n",
    "    (1,3), (1,4), (3,1), (4,1),\n",
    "    (2,3), (3,2), (3,3), (3,4),\n",
    "    (2,4), (4,2), (4,3), (4,4)\n",
    "]\n",
    "player3 = [\n",
    "    (1,5), (1,6), (5,1), (6,1), (3,5), (3,6), (5,3), (6,3),\n",
    "    (2,5), (5,2), (4,5), (5,4), (5,5), (5,6),\n",
    "    (2,6), (6,2), (4,6), (6,4), (6,5), (6,6)\n",
    "]\n",
    "\n",
    "SIMULATIONS = 1000"
   ]
  },
  {
   "cell_type": "code",
   "execution_count": 14,
   "metadata": {},
   "outputs": [
    {
     "data": {
      "image/png": "[encoded data removed]",
      "text/plain": [
       "<Figure size 720x72 with 1 Axes>"
      ]
     },
     "metadata": {
      "needs_background": "light"
     },
     "output_type": "display_data"
    }
   ],
   "source": [
    "results = raffle_2D(player1, player2, player3, SIMULATIONS)\n",
    "draw_it(results)"
   ]
  }
 ],
 "metadata": {
  "interpreter": {
   "hash": "31f2aee4e71d21fbe5cf8b01ff0e069b9275f58929596ceb00d14d90e3e16cd6"
  },
  "kernelspec": {
   "display_name": "Python 3.9.7 64-bit",
   "language": "python",
   "name": "python3"
  },
  "language_info": {
   "codemirror_mode": {
    "name": "ipython",
    "version": 3
   },
   "file_extension": ".py",
   "mimetype": "text/x-python",
   "name": "python",
   "nbconvert_exporter": "python",
   "pygments_lexer": "ipython3",
   "version": "3.9.7"
  },
  "orig_nbformat": 4
 },
 "nbformat": 4,
 "nbformat_minor": 2
}
