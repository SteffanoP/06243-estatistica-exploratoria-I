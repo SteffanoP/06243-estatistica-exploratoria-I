{
 "cells": [
  {
   "cell_type": "markdown",
   "metadata": {},
   "source": [
    "# Teste de Hipóteses\n",
    "\n",
    "Desejamos testar hipóteses que ajudem a comprovar que o medicamento funcione ou não, para tal temos um conjunto de dados de teste, no qual desejamos saber o efeito do remédio.\n",
    "\n",
    "Para tal, devemos seguir o roteiro para testar hipóteses:\n",
    "\n",
    "1. Estabelecer as hipótese nula e alternativa;\n",
    "2. Definir a forma da região crítica, com base na hipótese alternativa;\n",
    "3. Identificar a distribuição do estimador e obter sua estimativa;\n",
    "4. Fixar `α` e obter a região crítica;\n",
    "5. Concluir o teste com base na estimativa e na região crítica."
   ]
  },
  {
   "cell_type": "markdown",
   "metadata": {},
   "source": [
    "## Problema\n",
    "\n",
    "Desejamos testar se um certo tratamento proposto para a doença é eficaz. Uma amostra aleatória de tamanho `n = 30` é selecionada entre os indivíduos doentes que foram submetidos ao tratamento. Representamos as concentrações dos indivíduos da amostra por `X1, X2, . . . , X30`. Sabe-se que para `i = 1, 2, . . . , 30`, tem-se `Xi ∼ N(μ, 36)`, sendo `μ = 14` ou `μ = 18` dependendo se o tratamento é eficaz ou não."
   ]
  },
  {
   "cell_type": "code",
   "execution_count": 1,
   "metadata": {},
   "outputs": [],
   "source": [
    "# Importando os dados\n",
    "import pandas as pd\n",
    "dados = pd.read_excel('./data/experimento_medicamento.xlsx')\n",
    "\n",
    "# Separando o conjunto de dados em sadios, tratamento e placebo.\n",
    "sadios = dados[['Gênero','Grupo de controle']]\n",
    "tratamento = dados[['Gênero.1', 'Medicamento']]\n",
    "placebo = dados[['Gênero.2', 'Placebo']]"
   ]
  },
  {
   "cell_type": "markdown",
   "metadata": {},
   "source": [
    "## 1. Estabelecendo Hipóteses\n",
    "\n",
    "Para a hipótese nula, devemos mostrar que nada mudou desde o uso do remédio, logo `H0` deverá ser o parâmetro para pessoas doentes. Caso o tratamento seja eficaz, iremos estabelecer como uma hipótese alternativa (`H1`). Logo, temos as seguintes hipóteses:\n",
    "\n",
    "`H0: μ = 18` (o tratamento não é eficaz)\n",
    "\n",
    "`H1: μ < 18` (o tratamento é eficaz)"
   ]
  },
  {
   "cell_type": "markdown",
   "metadata": {},
   "source": [
    "## 2. Definir a forma da região crítica com base na hipótese alternativa\n",
    "\n",
    "Como montado em sala de aula é necessário estabelecer as regiões críticas da distribuição, conforme a imagem:\n",
    "\n",
    "![](./data/normal_sadio_doente.png)"
   ]
  },
  {
   "cell_type": "markdown",
   "metadata": {},
   "source": [
    "## 3. Identificando a distribuição do estimador e obtendo sua estimativa\n",
    "\n",
    "Para tal, o problema estabelece uma variável aleatória com distribuição normal `Xi ~ N(μ, 36)`, que para pessoas sadias `μ = 14` e pessoas doentes `μ = 18`."
   ]
  },
  {
   "cell_type": "markdown",
   "metadata": {},
   "source": [
    "## 4. Fixar `μ` e obter a região crítica\n",
    "\n",
    "Para esse teste de hipótese, vamos estabelecer que `α = 3% = 0.03`, logo precisamos estabelecer a região crítica a partir de `α`. Vale observar que a região crítica observada da distribuição normal, como a região crítica é unilateral (`H1: μ < 18`), logo vamos obter `Zc` para a cauda esquerda, nesse caso `P(Z < Zc) = 0,05` logo `Zc (tab. Normal de 0.03 da cauda esquerda) = -1.881`"
   ]
  },
  {
   "cell_type": "code",
   "execution_count": 2,
   "metadata": {},
   "outputs": [],
   "source": [
    "ZC = -1.88"
   ]
  },
  {
   "cell_type": "markdown",
   "metadata": {},
   "source": [
    "Temos a fórmula da distribuição normal, em que `Z ~ N(0,1)`: `Zc = Xc - μ / (σ / √n)`"
   ]
  },
  {
   "cell_type": "markdown",
   "metadata": {},
   "source": [
    "Correspondendo à `Xc = 18 + Zc(6/√30)`, em Python, podemos montar uma fórmula geral para quaisquer grupos (com `α = 3%`):"
   ]
  },
  {
   "cell_type": "code",
   "execution_count": 3,
   "metadata": {},
   "outputs": [],
   "source": [
    "import math\n",
    "\n",
    "def valor_critico(media, variancia, tam_populacao):\n",
    "    return media + ZC*(math.sqrt(variancia/tam_populacao))"
   ]
  },
  {
   "cell_type": "markdown",
   "metadata": {},
   "source": [
    "## 5. Concluir o teste com base na estimativa e na região crítica\n",
    "\n",
    "Vamos aprofundar mais nos grupos que realizaram o tratamento com o remédio e com o placebo e também com o grupo de controle, para garantir que nossa hipótese pode ser comprovada por pessoas sadias.\n",
    "\n",
    "Para isso, devemos reconhecer o valor crítico para os nossos parâmetros:"
   ]
  },
  {
   "cell_type": "code",
   "execution_count": 4,
   "metadata": {},
   "outputs": [],
   "source": [
    "Xc = valor_critico(18, 36, 30)"
   ]
  },
  {
   "cell_type": "markdown",
   "metadata": {},
   "source": [
    "### Grupo Medicamento\n",
    "\n",
    "Obtendo o valor crítico para nossa população (`Xc`), podemos enfim constatar nossa hipótese"
   ]
  },
  {
   "cell_type": "code",
   "execution_count": 5,
   "metadata": {},
   "outputs": [
    {
     "data": {
      "text/plain": [
       "False"
      ]
     },
     "execution_count": 5,
     "metadata": {},
     "output_type": "execute_result"
    }
   ],
   "source": [
    "True if tratamento['Medicamento'].mean() < Xc else False"
   ]
  },
  {
   "cell_type": "markdown",
   "metadata": {},
   "source": [
    "Com isso, comprovamos que a Hipótese Alternativa é falsa (`False`), e não conseguiu comprovar a eficiência do medicamento."
   ]
  },
  {
   "cell_type": "markdown",
   "metadata": {},
   "source": [
    "### Grupo Placebo"
   ]
  },
  {
   "cell_type": "code",
   "execution_count": 6,
   "metadata": {},
   "outputs": [
    {
     "data": {
      "text/plain": [
       "False"
      ]
     },
     "execution_count": 6,
     "metadata": {},
     "output_type": "execute_result"
    }
   ],
   "source": [
    "True if placebo['Placebo'].mean() < Xc else False"
   ]
  },
  {
   "cell_type": "markdown",
   "metadata": {},
   "source": [
    "Para o grupo de doentes que fizeram o teste com placebo, o teste de hipótese nula se comprova"
   ]
  },
  {
   "cell_type": "markdown",
   "metadata": {},
   "source": [
    "### Grupo de controle"
   ]
  },
  {
   "cell_type": "code",
   "execution_count": 7,
   "metadata": {},
   "outputs": [
    {
     "data": {
      "text/plain": [
       "True"
      ]
     },
     "execution_count": 7,
     "metadata": {},
     "output_type": "execute_result"
    }
   ],
   "source": [
    "True if sadios['Grupo de controle'].mean() < Xc else False"
   ]
  },
  {
   "cell_type": "markdown",
   "metadata": {},
   "source": [
    "Da mesma forma, ocorre com o grupo de controle, que se comprova verdadeiro para pessoas do Grupo de Controle."
   ]
  },
  {
   "cell_type": "markdown",
   "metadata": {},
   "source": [
    "### Grupo Medicamento por gênero\n",
    "\n",
    "Vamos observar os grupos por gênero separadamento, para verificar se algum grupo se destaca para a devida hipótese"
   ]
  },
  {
   "cell_type": "code",
   "execution_count": 8,
   "metadata": {},
   "outputs": [],
   "source": [
    "# Separando os Grupos de Tratamento por Gênero\n",
    "tratamento_feminino = tratamento.loc[tratamento['Gênero.1'] == 'F']\n",
    "tratamento_masculino = tratamento.loc[tratamento['Gênero.1'] == 'M']"
   ]
  },
  {
   "cell_type": "markdown",
   "metadata": {},
   "source": [
    "#### Grupo Feminino"
   ]
  },
  {
   "cell_type": "code",
   "execution_count": 9,
   "metadata": {},
   "outputs": [],
   "source": [
    "# Atualizando o valor crítico para a população masculina\n",
    "Xc = valor_critico(18, 36, int(tratamento_masculino['Medicamento'].count()))"
   ]
  },
  {
   "cell_type": "code",
   "execution_count": 10,
   "metadata": {},
   "outputs": [
    {
     "data": {
      "text/plain": [
       "False"
      ]
     },
     "execution_count": 10,
     "metadata": {},
     "output_type": "execute_result"
    }
   ],
   "source": [
    "# Testando se a hipótese Alternativa é verdadeira\n",
    "True if tratamento_feminino['Medicamento'].mean() < Xc else False"
   ]
  },
  {
   "cell_type": "markdown",
   "metadata": {},
   "source": [
    "#### Grupo Masculino"
   ]
  },
  {
   "cell_type": "code",
   "execution_count": 11,
   "metadata": {},
   "outputs": [],
   "source": [
    "# Atualizando o valor crítico para uma população de 15 pessoas\n",
    "Xc = valor_critico(18, 36, int(tratamento_masculino['Medicamento'].count()))"
   ]
  },
  {
   "cell_type": "code",
   "execution_count": 12,
   "metadata": {},
   "outputs": [
    {
     "data": {
      "text/plain": [
       "False"
      ]
     },
     "execution_count": 12,
     "metadata": {},
     "output_type": "execute_result"
    }
   ],
   "source": [
    "# Testando se a hipótese Alternativa é verdadeira\n",
    "True if tratamento_masculino['Medicamento'].mean() < Xc else False"
   ]
  }
 ],
 "metadata": {
  "interpreter": {
   "hash": "513ef981b40ed7dc3d9438293a7d1b77800864a236117e07cbc7b117cb3d072c"
  },
  "kernelspec": {
   "display_name": "Python 3.10.4 ('venvEstatistica': venv)",
   "language": "python",
   "name": "python3"
  },
  "language_info": {
   "codemirror_mode": {
    "name": "ipython",
    "version": 3
   },
   "file_extension": ".py",
   "mimetype": "text/x-python",
   "name": "python",
   "nbconvert_exporter": "python",
   "pygments_lexer": "ipython3",
   "version": "3.10.4"
  },
  "orig_nbformat": 4
 },
 "nbformat": 4,
 "nbformat_minor": 2
}
